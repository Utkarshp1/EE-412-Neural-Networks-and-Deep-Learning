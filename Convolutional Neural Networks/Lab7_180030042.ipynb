{
 "cells": [
  {
   "cell_type": "markdown",
   "metadata": {
    "id": "HeieXiJJKo-r"
   },
   "source": [
    "# Lab 7\n",
    "* **Name**: Utkarsh Prakash\n",
    "* **Roll Number**: 180030042\n",
    "\n",
    "## Title\n",
    "Demostrate the working principle of convolution neural networks.\n",
    "\n",
    "## Objective\n",
    "* To observe the translation invariant property of pooling layer in a CNN.\n",
    "* To understand the working of the backpropagation algorithm with max pooling layer.\n",
    "\n",
    "## Hypothesis:\n",
    "* If there is slight translation in the image then also the max pool of the output must remain approximately the same.\n",
    "* The backpropagation should be able to learn the weights in the case of a CNN with max pooling layer.\n",
    "\n",
    "## Experimental Description:\n",
    "1. **Data Generation:**\n",
    "\n",
    "    We use MNIST data for training and testing.\n",
    "   \n",
    "2. **Operations:**\n",
    "\n",
    "    Let $X$ represents the matrix of training examples where each training example is stacked as a column of the matrix. Let $y$ represent the desired output of the network $y'$ the actual output of the network.\n",
    "\n",
    "   The error between the desired output vectors $(y)$ and the actual output vectors $(y')$ is given as follows:\n",
    "   \n",
    "   <center> $E = \\frac{1}{m} ||y - y'||_{2}^{2}$ </center>\n",
    "    \n",
    "    **Forward Propagation:**\n",
    "    \n",
    "    <center> $z^{[1]} = conv(X, W^{[1]})$ </center>\n",
    "    <center> $a^{[1]} = relu(z^{[1]})$ </center>\n",
    "    <center> $m^{[1]} = max_pool(a^{[1]})$ </center>\n",
    "    <center> $f^{[1]} = flatten(m^{[1]})$ </center>\n",
    "    <center> $z^{[2]} = W^{[2]}f^{[1]}$ </center>\n",
    "    <center> $a^{[2]} = \\sigma(z^{[2]})$ </center>\n",
    "    \n",
    "    **Backward Propagation:**\n",
    "    \n",
    "    <center> $ \\frac{\\partial L}{\\partial z^{[2]}}  = (a^{[2]}-y)*(a^{[2]})*(1-a^{[2]}) $ </center>\n",
    "    \n",
    "    <center> $ \\frac{\\partial L}{\\partial w^{[2]}} = \\frac{\\partial L}{\\partial z^{[2]}} (f^{[1]})^T $ </center>\n",
    "    \n",
    "    <center> $ \\frac{\\partial l}{\\partial f^{[1]}} = (W^{[2]})^{T}\\frac{\\partial L}{\\partial z^{[2]}} $ </center>\n",
    "    \n",
    "    <center> $ \\frac{\\partial l}{\\partial m^{[1]}} = \\frac{\\partial l}{\\partial f^{[1]}}.reshape() $ </center>\n",
    "    \n",
    "    <center> $ \\frac{\\partial l}{\\partial a^{[1]}} = \\frac{\\partial l}{\\partial m^{[1]}} $ where mask = 1 else 0 </center>\n",
    "    \n",
    "    <center> $ \\frac{\\partial l}{\\partial z^{[1]}} = \\frac{\\partial l}{\\partial a^{[1]}}*relu^{'}(z^{[1]}) $ </center>\n",
    "    \n",
    "    <center> $ \\frac{\\partial l}{\\partial w^{[1]}} = conv(\\frac{\\partial l}{\\partial z^{[1]}}, X) $ </center>\n",
    "   \n",
    "3. **Training:**\n",
    "    \n",
    "    During training we first do forward propagation and then do backpropagation to find the derivatives of weights and biases. This is done several times.\n",
    "    \n",
    "## Implementation"
   ]
  },
  {
   "cell_type": "code",
   "execution_count": 1,
   "metadata": {
    "colab": {
     "base_uri": "https://localhost:8080/"
    },
    "id": "PKgmlcJ0vGCY",
    "outputId": "f92911da-ebbe-4cde-fe30-c2538071f938"
   },
   "outputs": [
    {
     "name": "stdout",
     "output_type": "stream",
     "text": [
      "Collecting idx2numpy\n",
      "  Downloading https://files.pythonhosted.org/packages/7e/6b/80628f6cc2f44d80b27f1ef7b57b257ed4c73766113b77d13ad110c091b4/idx2numpy-1.2.3.tar.gz\n",
      "Requirement already satisfied: numpy in /usr/local/lib/python3.7/dist-packages (from idx2numpy) (1.19.5)\n",
      "Requirement already satisfied: six in /usr/local/lib/python3.7/dist-packages (from idx2numpy) (1.15.0)\n",
      "Building wheels for collected packages: idx2numpy\n",
      "  Building wheel for idx2numpy (setup.py) ... \u001b[?25l\u001b[?25hdone\n",
      "  Created wheel for idx2numpy: filename=idx2numpy-1.2.3-cp37-none-any.whl size=7907 sha256=49d82515aa4cbd8e22ddc30a630464746bfef0b56227689481f066fa2e1e6afc\n",
      "  Stored in directory: /root/.cache/pip/wheels/7a/c1/da/284ce80a748fab898b8d1fa95468a386e7cf3b81da18511f9d\n",
      "Successfully built idx2numpy\n",
      "Installing collected packages: idx2numpy\n",
      "Successfully installed idx2numpy-1.2.3\n"
     ]
    }
   ],
   "source": [
    "!pip install idx2numpy"
   ]
  },
  {
   "cell_type": "code",
   "execution_count": 2,
   "metadata": {
    "id": "zIUvt0gbuYLb"
   },
   "outputs": [],
   "source": [
    "import pandas as pd\n",
    "import numpy as np\n",
    "import matplotlib.pyplot as plt\n",
    "from scipy import signal\n",
    "from google.colab import drive\n",
    "import os\n",
    "import idx2numpy"
   ]
  },
  {
   "cell_type": "markdown",
   "metadata": {
    "id": "1gvVBggRK1As"
   },
   "source": [
    "### MNIST Dataset"
   ]
  },
  {
   "cell_type": "code",
   "execution_count": null,
   "metadata": {
    "colab": {
     "base_uri": "https://localhost:8080/"
    },
    "id": "db172tPzu57a",
    "outputId": "734ede2c-8d20-4094-defb-554f4e0c3384"
   },
   "outputs": [
    {
     "name": "stdout",
     "output_type": "stream",
     "text": [
      "Mounted at /gdrive\n"
     ]
    }
   ],
   "source": [
    "drive.mount('/gdrive')"
   ]
  },
  {
   "cell_type": "code",
   "execution_count": null,
   "metadata": {
    "colab": {
     "base_uri": "https://localhost:8080/",
     "height": 35
    },
    "id": "eLwfj0cNu_lZ",
    "outputId": "d9be339a-a8cf-48b8-d8a3-2850c3a31dbb"
   },
   "outputs": [
    {
     "data": {
      "application/vnd.google.colaboratory.intrinsic+json": {
       "type": "string"
      },
      "text/plain": [
       "'/content'"
      ]
     },
     "execution_count": 29,
     "metadata": {
      "tags": []
     },
     "output_type": "execute_result"
    }
   ],
   "source": [
    "os.getcwd()"
   ]
  },
  {
   "cell_type": "code",
   "execution_count": null,
   "metadata": {
    "id": "ojyZTcyYvUeE"
   },
   "outputs": [],
   "source": [
    "os.chdir('/gdrive/My Drive/Clustering')"
   ]
  },
  {
   "cell_type": "code",
   "execution_count": 110,
   "metadata": {
    "colab": {
     "base_uri": "https://localhost:8080/",
     "height": 794
    },
    "id": "27j5oJc7vWg1",
    "outputId": "04a0a888-551b-475c-ab9d-650cc667e8a8"
   },
   "outputs": [
    {
     "name": "stdout",
     "output_type": "stream",
     "text": [
      "(60000, 28, 28)\n",
      "(60000,)\n"
     ]
    },
    {
     "data": {
      "image/png": "[encoded data removed]",
      "text/plain": [
       "<Figure size 432x288 with 1 Axes>"
      ]
     },
     "metadata": {
      "needs_background": "light",
      "tags": []
     },
     "output_type": "display_data"
    },
    {
     "data": {
      "image/png": "[encoded data removed]",
      "text/plain": [
       "<Figure size 432x288 with 1 Axes>"
      ]
     },
     "metadata": {
      "needs_background": "light",
      "tags": []
     },
     "output_type": "display_data"
    },
    {
     "data": {
      "image/png": "[encoded data removed]",
      "text/plain": [
       "<Figure size 432x288 with 1 Axes>"
      ]
     },
     "metadata": {
      "needs_background": "light",
      "tags": []
     },
     "output_type": "display_data"
    }
   ],
   "source": [
    "file1='train-images.idx3-ubyte'\n",
    "file2='train-labels.idx1-ubyte'\n",
    "\n",
    "Images= idx2numpy.convert_from_file(file1)\n",
    "labels= idx2numpy.convert_from_file(file2)\n",
    "\n",
    "print(Images.shape)\n",
    "print(labels.shape)\n",
    "\n",
    "for i in range(3):\n",
    "    plt.figure()\n",
    "    plt.imshow(Images[i], cmap='viridis')\n",
    "    plt.show()"
   ]
  },
  {
   "cell_type": "code",
   "execution_count": 111,
   "metadata": {
    "colab": {
     "base_uri": "https://localhost:8080/"
    },
    "id": "gD2DGHEive1o",
    "outputId": "ebb9a28d-2a75-4894-f0fb-ec0d1a780263"
   },
   "outputs": [
    {
     "name": "stdout",
     "output_type": "stream",
     "text": [
      "(6742, 28, 28) (5421, 28, 28) (200, 28, 28)\n"
     ]
    }
   ],
   "source": [
    "class_1 = Images[labels == 1]         # Images of digit 1\n",
    "class_5 = Images[labels == 5]         # Images of digit 5\n",
    "\n",
    "X = np.concatenate([class_1[:100, :, :], class_5[:100, :, :]], axis=0)   # X_train\n",
    "X = X/255.0         # Normalizing the input\n",
    "\n",
    "y = np.c_[np.ones((1, 100)), np.zeros((1, 100))]      # Class Labels\n",
    "\n",
    "print(class_1.shape, class_5.shape, X.shape)"
   ]
  },
  {
   "cell_type": "markdown",
   "metadata": {
    "id": "UvEmdkiLLkUM"
   },
   "source": [
    "### Part 1: Translation invariant Property"
   ]
  },
  {
   "cell_type": "code",
   "execution_count": 112,
   "metadata": {
    "id": "WmS_oyVVuYLd"
   },
   "outputs": [],
   "source": [
    "shifted_X = np.concatenate((X[:,:,2:], X[:, :, :2]) , axis = -1)      # Shifted Data"
   ]
  },
  {
   "cell_type": "code",
   "execution_count": 113,
   "metadata": {
    "id": "mmxFfHwM_4H4"
   },
   "outputs": [],
   "source": [
    "# Kernel for vertical edge detection\n",
    "kernel = np.array([[1, 0, -1],\n",
    "                  [1, 0, -1],\n",
    "                  [1, 0, -1]])"
   ]
  },
  {
   "cell_type": "code",
   "execution_count": 114,
   "metadata": {
    "colab": {
     "base_uri": "https://localhost:8080/",
     "height": 281
    },
    "id": "c_1xKsyqIbEH",
    "outputId": "50b12e76-08a3-40cf-b63c-65f857b1587c"
   },
   "outputs": [
    {
     "data": {
      "image/png": "[encoded data removed]",
      "text/plain": [
       "<Figure size 432x288 with 1 Axes>"
      ]
     },
     "metadata": {
      "needs_background": "light",
      "tags": []
     },
     "output_type": "display_data"
    }
   ],
   "source": [
    "plt.figure()\n",
    "plt.imshow(X[0], cmap='viridis')\n",
    "plt.title(\"Original Image\")\n",
    "plt.show()"
   ]
  },
  {
   "cell_type": "code",
   "execution_count": 115,
   "metadata": {
    "colab": {
     "base_uri": "https://localhost:8080/",
     "height": 281
    },
    "id": "bHYzWm9yIWhY",
    "outputId": "9861020f-d6c1-4ce9-d6a5-c728457f58ed"
   },
   "outputs": [
    {
     "data": {
      "image/png": "[encoded data removed]",
      "text/plain": [
       "<Figure size 432x288 with 1 Axes>"
      ]
     },
     "metadata": {
      "needs_background": "light",
      "tags": []
     },
     "output_type": "display_data"
    }
   ],
   "source": [
    "plt.figure()\n",
    "plt.imshow(shifted_X[0], cmap='viridis')\n",
    "plt.title(\"Shifted Image\")\n",
    "plt.show()"
   ]
  },
  {
   "cell_type": "code",
   "execution_count": 116,
   "metadata": {
    "colab": {
     "base_uri": "https://localhost:8080/",
     "height": 281
    },
    "id": "GI1iBfmH_8gZ",
    "outputId": "0c8cb9bc-0f94-432d-e09e-a02ffaba2fe0"
   },
   "outputs": [
    {
     "data": {
      "image/png": "[encoded data removed]",
      "text/plain": [
       "<Figure size 432x288 with 1 Axes>"
      ]
     },
     "metadata": {
      "needs_background": "light",
      "tags": []
     },
     "output_type": "display_data"
    }
   ],
   "source": [
    "z1 = conv2D(np.expand_dims(shifted_X[0], axis=0), kernel)       # Convolution operation\n",
    "a1 = relu(z1)                                                   # Activation\n",
    "m1, mask1 = pool2D(a1, 2)                                       # Max pooling\n",
    "\n",
    "plt.figure()\n",
    "plt.imshow(m1[0], cmap='viridis')\n",
    "plt.title(\"Shifted Max Pooling\")\n",
    "plt.show()"
   ]
  },
  {
   "cell_type": "code",
   "execution_count": 117,
   "metadata": {
    "colab": {
     "base_uri": "https://localhost:8080/",
     "height": 281
    },
    "id": "Y24Ft9s2AeUr",
    "outputId": "56f26c61-dcba-4669-9fb2-04548c779d32"
   },
   "outputs": [
    {
     "data": {
      "image/png": "[encoded data removed]",
      "text/plain": [
       "<Figure size 432x288 with 1 Axes>"
      ]
     },
     "metadata": {
      "needs_background": "light",
      "tags": []
     },
     "output_type": "display_data"
    }
   ],
   "source": [
    "z1 = conv2D(np.expand_dims(X[0], axis=0), kernel)        # Convolution operation\n",
    "a1 = relu(z1)                                            # Activation\n",
    "m1, mask1 = pool2D(a1, 2)                                # Max pooling\n",
    "\n",
    "plt.figure()\n",
    "plt.imshow(m1[0], cmap='viridis')\n",
    "plt.title(\"Original Max Pooling\")\n",
    "plt.show()"
   ]
  },
  {
   "cell_type": "markdown",
   "metadata": {
    "id": "gxJOtHB1MTY0"
   },
   "source": [
    "### Part 2: Implementation of Backpropagation"
   ]
  },
  {
   "cell_type": "code",
   "execution_count": 4,
   "metadata": {
    "id": "5vk8n3bkwoEX"
   },
   "outputs": [],
   "source": [
    "def init_kernel(kernel_size):\n",
    "    '''\n",
    "        This function initializes a 2D kernel.\n",
    "    '''\n",
    "    return np.random.randn(kernel_size[0], kernel_size[1])    # Kernel initialization"
   ]
  },
  {
   "cell_type": "code",
   "execution_count": 104,
   "metadata": {
    "id": "mH7CImzAuYLe"
   },
   "outputs": [],
   "source": [
    "def conv2D(images, kernel):\n",
    "    '''\n",
    "        This function calculates the 2D convolution between images and kernel.\n",
    "    '''\n",
    "    m = images.shape[0]           # Number of training examples\n",
    "    \n",
    "    convolutions = []             # List for storing convolutions\n",
    "    \n",
    "    # Iterating over training examples\n",
    "    for i in range(m):\n",
    "        convolution = signal.convolve2d(images[i], kernel, boundary='symm', mode='valid')   # Convolution calculation\n",
    "        convolutions.append(convolution)\n",
    "        \n",
    "    return -1*np.array(convolutions)"
   ]
  },
  {
   "cell_type": "code",
   "execution_count": 7,
   "metadata": {
    "id": "OFZKpBiwuYLf"
   },
   "outputs": [],
   "source": [
    "def relu(z):\n",
    "    '''\n",
    "        This function calculates the ReLU function for z.\n",
    "    '''\n",
    "    return np.where(z > 0, z, 0)"
   ]
  },
  {
   "cell_type": "code",
   "execution_count": 8,
   "metadata": {
    "id": "6GJN05n0uYLg"
   },
   "outputs": [],
   "source": [
    "def derivative_of_relu(z):\n",
    "    '''\n",
    "        This function calculates the derivative of ReLU\n",
    "        activation function at z.\n",
    "    '''\n",
    "    return np.where(z > 0, 1, 0)"
   ]
  },
  {
   "cell_type": "code",
   "execution_count": 105,
   "metadata": {
    "id": "83bkwbl5uYLh"
   },
   "outputs": [],
   "source": [
    "def pool2D(images, kernel_size):\n",
    "    '''\n",
    "        This function performs Max pooling with a stride of 2.\n",
    "    '''\n",
    "    m = images.shape[0]         # Number of training examples\n",
    "    \n",
    "    pools = []                  # List for storing pooled output\n",
    "    masks = []                  # List for storing index of maximum value\n",
    "\n",
    "    # Iterating over training examples\n",
    "    for i in range(m):\n",
    "        output_size = (images.shape[1]//kernel_size, images.shape[2]//kernel_size)\n",
    "\n",
    "        pool = np.empty(shape = output_size)        # Empty array for each training example\n",
    "        mask = np.zeros(images[0].shape)            # Inital mask array\n",
    "\n",
    "        for j in range(0, images.shape[1], 2):\n",
    "            for k in range(0, images.shape[2], 2):\n",
    "                sub_matrix = images[i, j:j+kernel_size, k:k+kernel_size]\n",
    "\n",
    "                pool[j//2][k//2] = np.amax(sub_matrix)          # Max pooling\n",
    "                arg_max = np.unravel_index(sub_matrix.argmax(), sub_matrix.shape)     # Index for max calculation\n",
    "                mask[j+arg_max[0]][k+arg_max[1]] = 1\n",
    "                \n",
    "        pools.append(pool)\n",
    "        masks.append(mask)\n",
    "        \n",
    "    return np.array(pools), np.array(masks)"
   ]
  },
  {
   "cell_type": "code",
   "execution_count": 13,
   "metadata": {
    "id": "4bwi4fikuYLi"
   },
   "outputs": [],
   "source": [
    "def sigmoid(z):\n",
    "    '''\n",
    "        This function calculates the sigmoid function of z.\n",
    "    '''\n",
    "    return 1/(1 + np.exp(-z))"
   ]
  },
  {
   "cell_type": "markdown",
   "metadata": {},
   "source": [
    "**Forward Propagation:**\n",
    "<center> $z^{[1]} = conv(X, W^{[1]})$ </center>\n",
    "<center> $a^{[1]} = relu(z^{[1]})$ </center>\n",
    "<center> $m^{[1]} = max_pool(a^{[1]})$ </center>\n",
    "<center> $f^{[1]} = flatten(m^{[1]})$ </center>\n",
    "<center> $z^{[2]} = W^{[2]}f^{[1]}$ </center>\n",
    "<center> $a^{[2]} = \\sigma(z^{[2]})$ </center>"
   ]
  },
  {
   "cell_type": "code",
   "execution_count": 106,
   "metadata": {
    "id": "KP-PbryluYLi"
   },
   "outputs": [],
   "source": [
    "def forward_propagation(images, kernel, w2=None, w2_init=False, pool_kernel_size=2):\n",
    "    '''\n",
    "        This function performs the forward propagation for the CNN.\n",
    "    '''\n",
    "\n",
    "    cache = {}          # Dictionary for storing results of forward prop\n",
    "    \n",
    "    cache[\"z1\"] = conv2D(images, kernel)        # Convolution\n",
    "    cache[\"a1\"] = relu(cache[\"z1\"])             # ReLU activation\n",
    "    cache[\"m1\"], cache[\"mask1\"] = pool2D(cache[\"a1\"], pool_kernel_size)     # Max pooling\n",
    "    cache[\"f1\"] = cache[\"m1\"].reshape(images.shape[0], cache[\"m1\"].shape[1]*cache[\"m1\"].shape[2]).T   # Flatten\n",
    "    \n",
    "    cache[\"w2\"] = np.random.randn(1, cache[\"f1\"].shape[0]) if w2_init else w2   # Weight initalization \n",
    "\n",
    "    cache[\"z2\"] = np.dot(cache[\"w2\"], cache[\"f1\"])      # z2 calculation\n",
    "    cache[\"a2\"] = sigmoid(cache[\"z2\"])                  # a2 calculation\n",
    "    \n",
    "    return cache"
   ]
  },
  {
   "cell_type": "markdown",
   "metadata": {},
   "source": [
    "**Backward Propagation:**\n",
    "<center> $ \\frac{\\partial L}{\\partial z^{[2]}}  = (a^{[2]}-y)*(a^{[2]})*(1-a^{[2]}) $ </center>\n",
    "    \n",
    "<center> $ \\frac{\\partial L}{\\partial w^{[2]}} = \\frac{\\partial L}{\\partial z^{[2]}} (f^{[1]})^T $ </center>\n",
    "\n",
    "<center> $ \\frac{\\partial l}{\\partial f^{[1]}} = (W^{[2]})^{T}\\frac{\\partial L}{\\partial z^{[2]}} $ </center>\n",
    "\n",
    "<center> $ \\frac{\\partial l}{\\partial m^{[1]}} = \\frac{\\partial l}{\\partial f^{[1]}}.reshape() $ </center>\n",
    "\n",
    "<center> $ \\frac{\\partial l}{\\partial a^{[1]}} = \\frac{\\partial l}{\\partial m^{[1]}} $ where mask = 1 else 0 </center>\n",
    "\n",
    "<center> $ \\frac{\\partial l}{\\partial z^{[1]}} = \\frac{\\partial l}{\\partial a^{[1]}}*relu^{'}(z^{[1]}) $ </center>\n",
    "\n",
    "<center> $ \\frac{\\partial l}{\\partial w^{[1]}} = conv(\\frac{\\partial l}{\\partial z^{[1]}}, X) $ </center>"
   ]
  },
  {
   "cell_type": "code",
   "execution_count": 107,
   "metadata": {
    "id": "26aHHXEDuYLl"
   },
   "outputs": [],
   "source": [
    "def backward_propagation(images, y, kernel, cache, pool_kernel_size=2):\n",
    "    '''\n",
    "        This function is for performing backward propagation for a CNN.\n",
    "    '''\n",
    "    m = images.shape[0]       # Number of training examples\n",
    "    gradients = {}            # Dictionary for storing the gradients\n",
    "    \n",
    "    gradients[\"dz2\"] = -1*(y-cache[\"a2\"])*cache[\"a2\"]*(1-cache[\"a2\"])      # dz2 calculation\n",
    "    gradients[\"dw2\"] = np.dot(gradients[\"dz2\"], cache[\"f1\"].T)/m           # dw2 calculation\n",
    "    \n",
    "    gradients[\"df1\"] = np.dot(cache[\"w2\"].T, gradients[\"dz2\"])             # df1 calculation  \n",
    "    \n",
    "    gradients[\"dm1\"] = gradients[\"df1\"].T.reshape(m, cache[\"m1\"].shape[1], cache[\"m1\"].shape[2])  # dm1 calculation\n",
    "    \n",
    "    # da1 calculation\n",
    "    gradients[\"da1\"] = np.empty(shape = cache[\"a1\"].shape)                 \n",
    "    for i in range(m):\n",
    "        for j in range(cache[\"mask1\"].shape[1]):\n",
    "            for k in range(cache[\"mask1\"].shape[2]):\n",
    "                gradient = gradients[\"dm1\"][i][j//pool_kernel_size][k//pool_kernel_size]\n",
    "                gradients[\"da1\"][i][j][k] =  gradient if cache[\"mask1\"][i][j][k] == 1 else 0\n",
    "    \n",
    "    gradients[\"dz1\"] = gradients[\"da1\"]*derivative_of_relu(cache[\"z1\"])   # dz1 calculation  \n",
    "    \n",
    "    # dw1 calculation\n",
    "    gradients[\"dw1\"] = np.zeros(kernel.shape)\n",
    "    # Performing convolution for every training example\n",
    "    for i in range(m):\n",
    "        gradients[\"dw1\"] += signal.convolve2d(gradients[\"dz1\"][i], images[i], boundary='symm', mode='valid')\n",
    "    gradients[\"dw1\"] /= m\n",
    "    \n",
    "    return gradients"
   ]
  },
  {
   "cell_type": "code",
   "execution_count": 26,
   "metadata": {
    "id": "By5RX-txyGtb"
   },
   "outputs": [],
   "source": [
    "def mean_squared_error(images, y, kernel, w2):\n",
    "    '''\n",
    "        This function calculates the mean squared error.\n",
    "    '''\n",
    "    cache = forward_propagation(images, kernel, w2= w2)        # Performing the forward pass\n",
    "    \n",
    "    return np.sum((y - cache[\"a2\"])**2)/images.shape[0]    # Error calculation"
   ]
  },
  {
   "cell_type": "code",
   "execution_count": 108,
   "metadata": {
    "id": "2n6ajU9HvwNq"
   },
   "outputs": [],
   "source": [
    "def model(images, y, kernel_size= (3, 3), kernel_pool_size=2, num_iterations=1000, learning_rate=0.01):\n",
    "    '''\n",
    "        This function implements a Convolutional Neural Network.\n",
    "    '''\n",
    "    errors = []         # List for storing errors\n",
    "\n",
    "    kernel = init_kernel(kernel_size)           # Kernel Initialization\n",
    "    cache = None                                \n",
    "    \n",
    "    # Epochs\n",
    "    for i in range(num_iterations):\n",
    "        # Forward Propagation\n",
    "        if i == 0:\n",
    "            cache = forward_propagation(images, kernel, w2_init=True)\n",
    "        else:\n",
    "            cache = forward_propagation(images, kernel, w2 = cache[\"w2\"])\n",
    "\n",
    "        gradients = backward_propagation(images, y, kernel, cache)      # Backpropagation\n",
    "\n",
    "        # Weight update\n",
    "        kernel = kernel - learning_rate*gradients[\"dw1\"]                # Kernel update\n",
    "        cache[\"w2\"] = cache[\"w2\"] - learning_rate*gradients[\"dw2\"]      # w2 update\n",
    "        \n",
    "        # Error calculation\n",
    "        errors.append(mean_squared_error(images, y, kernel, cache[\"w2\"]))\n",
    "\n",
    "        # Early Stopping\n",
    "        if i>2 and (errors[i-1] - errors[i])<10**(-20):\n",
    "            break\n",
    "\n",
    "    return errors, kernel, cache"
   ]
  },
  {
   "cell_type": "code",
   "execution_count": 91,
   "metadata": {
    "id": "rbb_Q0vJH_LA"
   },
   "outputs": [],
   "source": [
    "errors, kernel, cache = model(X, y, num_iterations=1000, learning_rate=0.1)"
   ]
  },
  {
   "cell_type": "code",
   "execution_count": 109,
   "metadata": {
    "colab": {
     "base_uri": "https://localhost:8080/",
     "height": 295
    },
    "id": "aXKM5mdYTEbf",
    "outputId": "8b26d79b-c61e-4a88-edd0-766b85112e29"
   },
   "outputs": [
    {
     "data": {
      "image/png": "[encoded data removed]",
      "text/plain": [
       "<Figure size 432x288 with 1 Axes>"
      ]
     },
     "metadata": {
      "needs_background": "light",
      "tags": []
     },
     "output_type": "display_data"
    }
   ],
   "source": [
    "plt.figure()\n",
    "plt.plot(errors)\n",
    "plt.xlabel(\"Epochs\")\n",
    "plt.ylabel(\"Error\")\n",
    "plt.title(\"Error vs Epoch\")\n",
    "plt.show()"
   ]
  },
  {
   "cell_type": "markdown",
   "metadata": {
    "id": "OyfV6-8wHCX8"
   },
   "source": [
    "## Conclusion\n",
    "* The pooling layer satifies translation invariant property i.e. if we slightly shift the image the result of max pooling is near to the original image.\n",
    "* The backpropagation algorithm is able to learn appropriate weights for the CNN.\n",
    "\n",
    "## References\n",
    "1. Deep Learning by Ian Goodfellow, "
   ]
  },
  {
   "cell_type": "code",
   "execution_count": null,
   "metadata": {},
   "outputs": [],
   "source": []
  }
 ],
 "metadata": {
  "colab": {
   "collapsed_sections": [],
   "name": "Untitled.ipynb",
   "provenance": []
  },
  "kernelspec": {
   "display_name": "Python 3",
   "language": "python",
   "name": "python3"
  },
  "language_info": {
   "codemirror_mode": {
    "name": "ipython",
    "version": 3
   },
   "file_extension": ".py",
   "mimetype": "text/x-python",
   "name": "python",
   "nbconvert_exporter": "python",
   "pygments_lexer": "ipython3",
   "version": "3.6.8"
  }
 },
 "nbformat": 4,
 "nbformat_minor": 1
}
