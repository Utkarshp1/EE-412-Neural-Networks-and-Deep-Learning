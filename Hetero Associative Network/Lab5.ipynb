{
 "cells": [
  {
   "cell_type": "markdown",
   "metadata": {},
   "source": [
    "# Lab 5\n",
    "* **Name**: Utkarsh Prakash\n",
    "\n",
    "## Title\n",
    "Demostrate the working principle of two layer hetero-associative network.\n",
    "\n",
    "## Objective\n",
    "* To observe and understand different methods of finding optimal weights in a pattern association task.\n",
    "* To overcome the limitation of number of patterns to input dimensionality by converting the task to pattern classification task.\n",
    "\n",
    "## Hypothesis:\n",
    "* In a hetero-association task the number of patterns that can be learnt is limited by the input dimension i.e number of training examples ($L$) should be less than or equal to input vector dimension ($M$).\n",
    "* By converting the task to a pattern classification task, we should be able to overcome this limitation.\n",
    "\n",
    "## Experimental Description:\n",
    "1. **Data Generation:** <br />\n",
    "We generate synthetic data for training and testing. <br/><br />\n",
    "2. **Network:** <br /><br />\n",
    "![Linear Hetero-Associative Feedforward Network](tmp/IMG_4674.jpg) <br /><br />\n",
    "3. **Operations:** <br />\n",
    "Let $A$ be a $M\\times L$ matrix of input vectors (training examples) where each column represents a training examples. Let $B$ be a $N \\times L$ matrix of desired output vectors where each column represents the desired output for the corresponding training example in the matrix $A$. Let $B'$ denote the output obtained from the neuron. Let $W$ be the weight matrix such that $B' = WA$. <br />\n",
    "The error between the desired output vectors $(B)$ and the actual output vectors $(B')$ is given as follows:<br />\n",
    "<center> $E = \\frac{1}{L} ||B - B'||_{2}$ </center> <br />\n",
    "\n",
    "     **Weights by Computation:**<br />\n",
    "Now, it can be shown that the minimum error E can be obtained when $W = BA^+$ where $A^+$ presents the Moore-Penrose pseudo inverse of the matrix A. <br /><br />\n",
    "\n",
    "      **Weights by Widrow's Learning Law:**<br />\n",
    "Using, the notations defined earlier, the weight update equation for Widrow's Learning Law is given by: <br />\n",
    "<center>$w_{ji}(l) = w_{ji}(l-1) + \\eta(b_{lj} - w_{j}^T(l-1)a_l)a_{li}$ </center> <br />\n",
    "where $\\eta$ is a small positive constant called the learning rate parameter. <br/>\n",
    "In matrix form, the update equation for the $l^{th}$ pattern pair $(a_l, b_l)$ is given by: <br />\n",
    "<center> $W(l) = W(l-1) + \\eta(b_l - W(l-1)a_l)a_l^T$ </center> <br /> <br />\n",
    "\n",
    "    Now to overcome the limitation of input dimension vs number of training examples, we convert the hetero-association task to pattern classification task. <br /><br />\n",
    "\n",
    "    **Pattern Classification Task- Perceptron Learning Law:**<br />\n",
    "Let the index $m$ denote the learning process at the $m^{th}$ step. Let vectors $a$ and $w(m)$ be the input and weight vectors, respectively, at the mth step. $\\eta$ is a positive learning rate parameter. The perceptron learning law can be stated as follows: \n",
    "<center> $w(m+1) = w(m) + \\eta e(m)a(m)$ </center>\n",
    "where $e(m) = b(m) - s(m)$, $b(m)$ is the desired output and $s(m)$ is the actual output for the input vector $a(m)$ to the perceptron. <br />\n",
    "The non-linear function used in the output layer of the perceptron is defined as follows:\n",
    "<center> $f(x) = 1, x > 0$ <br />\n",
    "        $f(x) = 0, x <= 0$ </center> <br /><br />\n",
    "        \n",
    "4. **Training:** <br />\n",
    "For weights by learning, we randomly present one training example to the network. <br /> <br />\n",
    "5. **Testing:** <br />\n",
    "For testing, the error between the desired output vectors $(B)$ and the actual output vectors $(B')$ is given as follows:<br />\n",
    "<center> $E = \\frac{1}{L} ||B - B'||_{2}$ </center> <br />\n",
    "\n",
    "## Implementation"
   ]
  },
  {
   "cell_type": "code",
   "execution_count": 1,
   "metadata": {},
   "outputs": [],
   "source": [
    "import numpy as np\n",
    "import matplotlib.pyplot as plt"
   ]
  },
  {
   "cell_type": "code",
   "execution_count": 3,
   "metadata": {},
   "outputs": [],
   "source": [
    "# Generating data where number of training examples = input dimension\n",
    "A = np.array([[1, 1, 0, 0],\n",
    "             [0, 1, 0, 0],\n",
    "             [0, 0, 0, 1],\n",
    "             [0, 0, 1, 1]])\n",
    "\n",
    "B = np.array([[1, 1, 0, 0],\n",
    "             [0, 0, 1, 1]])"
   ]
  },
  {
   "cell_type": "code",
   "execution_count": 4,
   "metadata": {},
   "outputs": [],
   "source": [
    "# Generating data where number of training examples > input dimension\n",
    "A_prime = np.array([[1, 1, 0, 0, 0],\n",
    "                    [0, 1, 0, 0, 1,],\n",
    "                     [0, 0, 0, 1, 0],\n",
    "                     [0, 0, 1, 1, 0]])\n",
    "\n",
    "B_prime = np.array([[1, 1, 0, 0, 1],\n",
    "                     [0, 0, 1, 1, 0]])"
   ]
  },
  {
   "cell_type": "code",
   "execution_count": 11,
   "metadata": {},
   "outputs": [
    {
     "data": {
      "text/plain": [
       "array([[ 9.91193709e-01,  9.83963791e-01,  8.61256907e-03,\n",
       "         3.13898201e-04],\n",
       "       [ 5.01639583e-03,  9.77150281e-01,  1.12711808e-02,\n",
       "        -1.30059010e-02],\n",
       "       [-1.73379187e-02, -8.56834497e-04, -7.11675737e-03,\n",
       "         1.01118852e+00],\n",
       "       [ 5.71769152e-03, -1.42210598e-02,  1.00303665e+00,\n",
       "         1.00322613e+00]])"
      ]
     },
     "execution_count": 11,
     "metadata": {},
     "output_type": "execute_result"
    }
   ],
   "source": [
    "A_test = A + np.random.normal(scale=0.01, size=A.shape)     # Input vector with noise\n",
    "A_test"
   ]
  },
  {
   "cell_type": "code",
   "execution_count": 5,
   "metadata": {},
   "outputs": [],
   "source": [
    "def MeanSquaredError(w, A, B, norm=False):\n",
    "    '''\n",
    "        This function calculates the mean squared error\n",
    "        between the actual output vectors and desired \n",
    "        output vectors.\n",
    "    '''\n",
    "    # Normalize the input vectors if norm = True\n",
    "    if norm:\n",
    "        A = (A - np.mean(A, axis=1, keepdims=True))/np.std(A, axis=1, keepdims=True)\n",
    "    \n",
    "    b_pred = np.dot(w, A)          # output value\n",
    "    \n",
    "    return np.linalg.norm(b_pred - B)**2/A.shape[1]     # Calculate LMS error"
   ]
  },
  {
   "cell_type": "markdown",
   "metadata": {},
   "source": [
    "### Weights By Computation"
   ]
  },
  {
   "cell_type": "code",
   "execution_count": 6,
   "metadata": {},
   "outputs": [],
   "source": [
    "def weights_by_computation(A, B):\n",
    "    '''\n",
    "        This function finds the optimal weights of the network\n",
    "        using computation method (Linear Algebra method).\n",
    "    '''\n",
    "\n",
    "    return np.dot(B, np.linalg.pinv(A))"
   ]
  },
  {
   "cell_type": "markdown",
   "metadata": {},
   "source": [
    "#### Case 1: Number of training examples <= input dimension"
   ]
  },
  {
   "cell_type": "code",
   "execution_count": 7,
   "metadata": {},
   "outputs": [
    {
     "name": "stdout",
     "output_type": "stream",
     "text": [
      "Error: 8.320017359752859e-32\n"
     ]
    }
   ],
   "source": [
    "w = weights_by_computation(A, B)                        # Weight calculation\n",
    "print(\"Error:\", MeanSquaredError(w, A, B))              # Error calculation"
   ]
  },
  {
   "cell_type": "code",
   "execution_count": 8,
   "metadata": {
    "scrolled": true
   },
   "outputs": [
    {
     "name": "stdout",
     "output_type": "stream",
     "text": [
      "Predicted Output\n",
      "---------------\n",
      "[[1. 1. 0. 0.]\n",
      " [0. 0. 1. 1.]]\n",
      "Actual Output\n",
      "-------------\n",
      "[[1 1 0 0]\n",
      " [0 0 1 1]]\n"
     ]
    }
   ],
   "source": [
    "b_pred = np.dot(w, A)                # Predicted B\n",
    "\n",
    "print(\"Predicted Output\")\n",
    "print(\"---------------\")\n",
    "print(b_pred)\n",
    "\n",
    "print(\"Actual Output\")\n",
    "print(\"-------------\")\n",
    "print(B)"
   ]
  },
  {
   "cell_type": "markdown",
   "metadata": {},
   "source": [
    "##### Testing"
   ]
  },
  {
   "cell_type": "code",
   "execution_count": 12,
   "metadata": {},
   "outputs": [
    {
     "name": "stdout",
     "output_type": "stream",
     "text": [
      "Predicted Output\n",
      "---------------\n",
      "[[ 9.91193709e-01  9.83963791e-01  8.61256907e-03  3.13898201e-04]\n",
      " [ 5.71769152e-03 -1.42210598e-02  1.00303665e+00  1.00322613e+00]]\n"
     ]
    }
   ],
   "source": [
    "b_pred_test = np.dot(w, A_test)                # Predicted B\n",
    "\n",
    "print(\"Predicted Output\")\n",
    "print(\"---------------\")\n",
    "print(b_pred_test)"
   ]
  },
  {
   "cell_type": "markdown",
   "metadata": {},
   "source": [
    "#### Case 2: Number of training examples > input dimension"
   ]
  },
  {
   "cell_type": "code",
   "execution_count": 13,
   "metadata": {},
   "outputs": [
    {
     "name": "stdout",
     "output_type": "stream",
     "text": [
      "Error: 0.06666666666666668\n"
     ]
    }
   ],
   "source": [
    "w = weights_by_computation(A_prime, B_prime)                        # Weight calculation\n",
    "print(\"Error:\", MeanSquaredError(w, A_prime, B_prime))              # Error calculation"
   ]
  },
  {
   "cell_type": "code",
   "execution_count": 14,
   "metadata": {},
   "outputs": [
    {
     "name": "stdout",
     "output_type": "stream",
     "text": [
      "Predicted Output\n",
      "---------------\n",
      "[[0.66666667 1.33333333 0.         0.         0.66666667]\n",
      " [0.         0.         1.         1.         0.        ]]\n",
      "Actual Output\n",
      "-------------\n",
      "[[1 1 0 0 1]\n",
      " [0 0 1 1 0]]\n"
     ]
    }
   ],
   "source": [
    "b_pred_prime = np.dot(w, A_prime)      # Predicted B\n",
    "\n",
    "print(\"Predicted Output\")\n",
    "print(\"---------------\")\n",
    "print(b_pred_prime)\n",
    "\n",
    "print(\"Actual Output\")\n",
    "print(\"-------------\")\n",
    "print(B_prime)"
   ]
  },
  {
   "cell_type": "markdown",
   "metadata": {},
   "source": [
    "### Widrow-Hoff Learning Law"
   ]
  },
  {
   "cell_type": "code",
   "execution_count": 15,
   "metadata": {},
   "outputs": [],
   "source": [
    "def WidrowLearning(A, B, epochs=1000, learning_rate=0.01):\n",
    "    '''\n",
    "        This function calculates the optimal weights using\n",
    "        the Widrow-Hoff learning law.\n",
    "    '''\n",
    "    w = np.zeros((B.shape[0], A.shape[0]))       # Weight initialisation\n",
    "    \n",
    "    errors = []\n",
    "    \n",
    "    # Running for different epochs\n",
    "    for i in range(epochs):\n",
    "        # Randomly shuffle the training examples\n",
    "        permutation = np.random.permutation(A.shape[1])\n",
    "        A = A[:, permutation]\n",
    "        B = B[:, permutation]\n",
    "        \n",
    "        # Present one training example\n",
    "        for l in range(A.shape[1]):\n",
    "            al = np.expand_dims(A[:, l], axis=-1)\n",
    "            bl = np.expand_dims(B[:, l], axis=-1)\n",
    "            w = w + learning_rate*np.dot((bl - np.dot(w, al)), al.T)    # Weight update\n",
    "            \n",
    "            error = MeanSquaredError(w, A, B)      # Error calculation\n",
    "            errors.append(error)\n",
    "        \n",
    "        # Early stopping\n",
    "        if error <= 10**(-20):\n",
    "            break\n",
    "    \n",
    "    return w, errors"
   ]
  },
  {
   "cell_type": "markdown",
   "metadata": {},
   "source": [
    "#### Case 1: Number of training examples <= input dimension"
   ]
  },
  {
   "cell_type": "code",
   "execution_count": 16,
   "metadata": {},
   "outputs": [
    {
     "name": "stdout",
     "output_type": "stream",
     "text": [
      "Error: 2.425309628737457e-05\n"
     ]
    }
   ],
   "source": [
    "w, errors = WidrowLearning(A, B)                        # Weight calculation\n",
    "print(\"Error:\", MeanSquaredError(w, A, B))              # Error calculation"
   ]
  },
  {
   "cell_type": "code",
   "execution_count": 17,
   "metadata": {},
   "outputs": [
    {
     "name": "stdout",
     "output_type": "stream",
     "text": [
      "Predicted Output\n",
      "---------------\n",
      "[[0.99406594 1.0036411  0.         0.        ]\n",
      " [0.         0.         0.99406575 1.00365052]]\n",
      "Actual Output\n",
      "-------------\n",
      "[[1 1 0 0]\n",
      " [0 0 1 1]]\n"
     ]
    }
   ],
   "source": [
    "b_pred = np.dot(w, A)               # Predicted B\n",
    "\n",
    "print(\"Predicted Output\")\n",
    "print(\"---------------\")\n",
    "print(b_pred)\n",
    "\n",
    "print(\"Actual Output\")\n",
    "print(\"-------------\")\n",
    "print(B)"
   ]
  },
  {
   "cell_type": "code",
   "execution_count": 18,
   "metadata": {
    "scrolled": false
   },
   "outputs": [
    {
     "data": {
      "image/png": "[encoded data removed]",
      "text/plain": [
       "<Figure size 432x288 with 1 Axes>"
      ]
     },
     "metadata": {
      "needs_background": "light"
     },
     "output_type": "display_data"
    }
   ],
   "source": [
    "plt.figure()               # Predicted B\n",
    "plt.plot(errors)\n",
    "plt.xlabel(\"Iterations\")\n",
    "plt.ylabel(\"Error\")\n",
    "plt.title(\"Error vs Iterations\")\n",
    "plt.show()"
   ]
  },
  {
   "cell_type": "markdown",
   "metadata": {},
   "source": [
    "##### Testing"
   ]
  },
  {
   "cell_type": "code",
   "execution_count": 19,
   "metadata": {},
   "outputs": [
    {
     "name": "stdout",
     "output_type": "stream",
     "text": [
      "Predicted Output\n",
      "---------------\n",
      "[[ 9.85359936e-01  9.87481260e-01  8.66938492e-03  1.87501921e-04]\n",
      " [ 5.51758119e-03 -1.41448810e-02  9.97016161e-01  1.00696475e+00]]\n"
     ]
    }
   ],
   "source": [
    "b_pred_test = np.dot(w, A_test)                # Predicted B\n",
    "\n",
    "print(\"Predicted Output\")\n",
    "print(\"---------------\")\n",
    "print(b_pred_test)"
   ]
  },
  {
   "cell_type": "markdown",
   "metadata": {},
   "source": [
    "#### Case 2: Number of training examples > input dimension"
   ]
  },
  {
   "cell_type": "code",
   "execution_count": 20,
   "metadata": {},
   "outputs": [
    {
     "name": "stdout",
     "output_type": "stream",
     "text": [
      "Error: 0.06667638693283948\n"
     ]
    }
   ],
   "source": [
    "w, errors = WidrowLearning(A_prime, B_prime)                        # Weight calculation\n",
    "print(\"Error:\", MeanSquaredError(w, A_prime, B_prime))              # Error calculation"
   ]
  },
  {
   "cell_type": "code",
   "execution_count": 21,
   "metadata": {},
   "outputs": [
    {
     "name": "stdout",
     "output_type": "stream",
     "text": [
      "Predicted Output\n",
      "---------------\n",
      "[[0.66652762 1.33308706 0.         0.         0.66655944]\n",
      " [0.         0.         0.99406546 1.00364569 0.        ]]\n",
      "Actual Output\n",
      "-------------\n",
      "[[1 1 0 0 1]\n",
      " [0 0 1 1 0]]\n"
     ]
    }
   ],
   "source": [
    "b_pred_prime = np.dot(w, A_prime)         # Predicted B\n",
    "\n",
    "print(\"Predicted Output\")\n",
    "print(\"---------------\")\n",
    "print(b_pred_prime)\n",
    "\n",
    "print(\"Actual Output\")\n",
    "print(\"-------------\")\n",
    "print(B_prime)"
   ]
  },
  {
   "cell_type": "code",
   "execution_count": 22,
   "metadata": {
    "scrolled": true
   },
   "outputs": [
    {
     "data": {
      "image/png": "[encoded data removed]",
      "text/plain": [
       "<Figure size 432x288 with 1 Axes>"
      ]
     },
     "metadata": {
      "needs_background": "light"
     },
     "output_type": "display_data"
    }
   ],
   "source": [
    "plt.figure()\n",
    "plt.plot(errors)\n",
    "plt.xlabel(\"Iterations\")\n",
    "plt.ylabel(\"Error\")\n",
    "plt.title(\"Error vs Iterations\")\n",
    "plt.show()"
   ]
  },
  {
   "cell_type": "markdown",
   "metadata": {},
   "source": [
    "### Conversion to Pattern Classification Task\n",
    "\n",
    "The output vector in the above hetero-association task was 2-dimensional and each dimension had a binary value i.e. (0 or 1). Hence, we can convert it to a pattern classification task with 2 neurons in the output layer. <br/>\n",
    "![Perceptron Model](tmp/IMG_4661.jpg) <br /><br />"
   ]
  },
  {
   "cell_type": "code",
   "execution_count": 23,
   "metadata": {},
   "outputs": [],
   "source": [
    "def MissClassificationError(X, y, w):\n",
    "    '''\n",
    "        This function calculates the fraction of examples\n",
    "        misclassified by the perceptron.\n",
    "    '''\n",
    "    activation = np.dot(X, w)             # activation value\n",
    "    y_pred = np.where(activation > 0, 1, 0) # output value\n",
    "    \n",
    "    return np.sum((y != y_pred).any(axis=1), axis=0)/X.shape[0]   # error calculation"
   ]
  },
  {
   "cell_type": "code",
   "execution_count": 24,
   "metadata": {},
   "outputs": [],
   "source": [
    "def PerceptronLearningBatch(X, y, learning_rate=0.01, epochs=1000):\n",
    "    '''\n",
    "        This function implements the Perceptron Learning Law using\n",
    "        Batch update.\n",
    "    '''\n",
    "    errors = []          # List for storing errors\n",
    "\n",
    "    w=np.random.uniform(0,1,(X.shape[1],y.shape[1]))   # Weight initialisation\n",
    "    \n",
    "    for i in range(epochs):\n",
    "        activation = np.dot(X, w)                # activation value\n",
    "        output = np.where(activation > 0, 1, 0)  # output value\n",
    "\n",
    "        error = y - output                 # error\n",
    "\n",
    "        gradient = (learning_rate*np.dot(X.T, error))/(2*X.shape[0])     # gradient calculation\n",
    "\n",
    "        w = w + gradient                  # weight update\n",
    "        \n",
    "        # Error calculation \n",
    "        error = MissClassificationError(X, y, w)\n",
    "        errors.append(MissClassificationError(X, y, w))\n",
    "        \n",
    "        # Early stopping\n",
    "        if np.linalg.norm(gradient)<= 10**(-10):\n",
    "            break\n",
    "            \n",
    "    return w, errors"
   ]
  },
  {
   "cell_type": "code",
   "execution_count": 25,
   "metadata": {},
   "outputs": [],
   "source": [
    "w, errors = PerceptronLearningBatch(A_prime.T, B_prime.T, learning_rate=0.01, epochs=1000)  # Learning weights"
   ]
  },
  {
   "cell_type": "code",
   "execution_count": 26,
   "metadata": {},
   "outputs": [
    {
     "name": "stdout",
     "output_type": "stream",
     "text": [
      "Predicted Output\n",
      "---------------\n",
      "[[1 1 0 0 1]\n",
      " [0 0 1 1 0]]\n",
      "Actual Output\n",
      "-------------\n",
      "[[1 1 0 0 1]\n",
      " [0 0 1 1 0]]\n"
     ]
    }
   ],
   "source": [
    "activation = np.dot(A_prime.T, w)                # activation value\n",
    "output = np.where(activation > 0, 1, 0)          # output value\n",
    "\n",
    "print(\"Predicted Output\")\n",
    "print(\"---------------\")\n",
    "print(output.T)\n",
    "\n",
    "print(\"Actual Output\")\n",
    "print(\"-------------\")\n",
    "print(B_prime)"
   ]
  },
  {
   "cell_type": "code",
   "execution_count": 27,
   "metadata": {},
   "outputs": [
    {
     "data": {
      "image/png": "[encoded data removed]",
      "text/plain": [
       "<Figure size 432x288 with 1 Axes>"
      ]
     },
     "metadata": {
      "needs_background": "light"
     },
     "output_type": "display_data"
    }
   ],
   "source": [
    "plt.figure()\n",
    "plt.plot(errors)\n",
    "plt.xlabel(\"Iterations\")\n",
    "plt.ylabel(\"Error\")\n",
    "plt.title(\"Error vs Iterations\")\n",
    "plt.show()"
   ]
  },
  {
   "cell_type": "markdown",
   "metadata": {},
   "source": [
    "## Observations\n",
    "Let input vector dimension be $m$ and the number of training examples be $l$. <br />\n",
    "\n",
    "| Input Vectors | Algorithm/Method | Error |\n",
    "| --- | --- | --- |\n",
    "| l = m | Weights by Computation | 8.32e-32 |\n",
    "| | Widrow-Hoff Learning Law | 2.42e-05 |\n",
    "| l > m | Weights by Computation | 0.06 |\n",
    "| | Widrow-Hoff Learning Law | 0.06 |\n",
    "| | Perceptron Learning Law | 0.0 |\n",
    "\n",
    "## Conclusion\n",
    "* For a hetero-association task, the number of training examples that can perfectly recalled by the network is limited by the dimension of input vectors.\n",
    "* We can overcome this limitation by converting the hetero-association task to a pattern classification task by using a hard-limiting output function (Perceptron Model).\n",
    "* The weights by computation and Widrow-Hoff learning Law show interpolative behaviour.\n",
    "* The error in case of Widrow-Hoff learning is greater than weights by computation because Widrow-Hoff learning is an approximate method for calculating the optimal weights.\n",
    "\n",
    "## References\n",
    "1. Artificial Neural Networks, B. Yegnanaryana, 1999"
   ]
  }
 ],
 "metadata": {
  "kernelspec": {
   "display_name": "Python 3",
   "language": "python",
   "name": "python3"
  },
  "language_info": {
   "codemirror_mode": {
    "name": "ipython",
    "version": 3
   },
   "file_extension": ".py",
   "mimetype": "text/x-python",
   "name": "python",
   "nbconvert_exporter": "python",
   "pygments_lexer": "ipython3",
   "version": "3.6.8"
  }
 },
 "nbformat": 4,
 "nbformat_minor": 4
}
