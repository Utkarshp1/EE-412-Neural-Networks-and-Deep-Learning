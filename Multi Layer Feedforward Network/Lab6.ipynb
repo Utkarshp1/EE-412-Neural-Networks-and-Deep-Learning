{
 "cells": [
  {
   "cell_type": "markdown",
   "metadata": {},
   "source": [
    "# Lab 6\n",
    "* **Name**: Utkarsh Prakash\n",
    "\n",
    "## Title\n",
    "Demostrate the working principle of multi-layer feedforward network.\n",
    "\n",
    "## Objective\n",
    "* To observe the working multi-layer feedforward network with non-linearly separable and non-convex data.\n",
    "* To understand the problem of vanishing and exploding gradients and solve it using ReLU activation function.\n",
    "\n",
    "## Hypothesis:\n",
    "* Two layer neural network (i.e. one output layer) should not be able to classify non-linearly separable data. This problem can be solved using 3 layer neural network with sigmoid activation function.\n",
    "* Three layer neural network should not be able to classify non-convex data. This problem can be solved using 4 layer neural network with sigmoid activation function.\n",
    "* With sigmoid activation function the network should suffer from the problem of vanishing/exploding gradients. This should be resolved using ReLU activation function.\n",
    "\n",
    "## Experimental Description:\n",
    "1. **Data Generation:** \n",
    "\n",
    "   We generate synthetic data for training and testing.\n",
    "\n",
    "\n",
    "2. **Operations:**\n",
    "\n",
    "   Let $X$ represents the matrix of training examples where each training example is stacked as a column of the matrix. Let $y$ represent the desired output of the network $y'$ the actual output of the network.\n",
    "\n",
    "   The error between the desired output vectors $(y)$ and the actual output vectors $(y')$ is given as follows:\n",
    "\n",
    "   <center> $E = \\frac{1}{m} ||y - y'||_{2}^{2}$ </center>\n",
    "   \n",
    "   **Three Layer Neural Network**\n",
    "   \n",
    "   Forward Propagation:\n",
    "   \n",
    "   <center> $z^{[1]} = W^{[1]}X + b^{[1]}$ </center>\n",
    "   <center> $a^{[1]} = \\sigma(z^{[1]})$ </center>\n",
    "   <center> $z^{[2]} = W^{[2]}a^{[1]} + b^{[2]}$ </center>\n",
    "   <center> $a^{[2]} = \\sigma(z^{[2]})$ </center>\n",
    "   \n",
    "   \n",
    "    Backward Propagation:\n",
    "   \n",
    "   <center> $ \\frac{\\partial L}{\\partial z^{[2]}}  = (a^{[2]}-y)*(a^{[2]})*(1-a^{[2]}) $ </center>\n",
    "   \n",
    "   \n",
    "   <center> $ \\frac{\\partial L}{\\partial w^{[2]}} = \\frac{\\partial L}{\\partial z^{[2]}} (a^{[1]})^T $ </center>\n",
    "   \n",
    "   \n",
    "   <center> $ \\frac{\\partial L}{\\partial b^{[2]}} = \\frac{\\partial L}{\\partial z^{[2]}} $ </center>\n",
    "   \n",
    "   \n",
    "   <center> $ \\frac{\\partial L}{\\partial z^{[1]}} = (W^{[2]})^T\\frac{\\partial L}{\\partial z^{[2]}}*a^{[1]}*(1-a^{[1]}) $ </center>\n",
    "   \n",
    "   \n",
    "   <center> $ \\frac{\\partial L}{\\partial w^{[1]}} = \\frac{\\partial L}{\\partial z^{[1]}} (X)^T $ </center>\n",
    "   \n",
    "   \n",
    "   <center> $ \\frac{\\partial L}{\\partial b^{[1]}} = \\frac{\\partial L}{\\partial z^{[1]}} $ </center>\n",
    "      \n",
    "   **Four Layer Neural Network**\n",
    "   \n",
    "   Forward Propagation:\n",
    "   \n",
    "   <center> $z^{[1]} = W^{[1]}X + b^{[1]}$ </center>\n",
    "   <center> $a^{[1]} = \\sigma(z^{[1]})$ </center>\n",
    "   <center> $z^{[2]} = W^{[2]}a^{[1]} + b^{[2]}$ </center>\n",
    "   <center> $a^{[2]} = \\sigma(z^{[2]})$ </center>\n",
    "   <center> $z^{[3]} = W^{[3]}a^{[2]} + b^{[3]}$ </center>\n",
    "   <center> $a^{[3]} = \\sigma(z^{[3]})$ </center>\n",
    "   \n",
    "   Backward Propagation:\n",
    "   \n",
    "   <center> $ \\frac{\\partial L}{\\partial z^{[3]}} = -(y - a^{[3]})*(a^{[3]})*(1-a^{[3]}) $ </center>\n",
    "   \n",
    "   \n",
    "   <center> $ \\frac{\\partial L}{\\partial w^{[3]}} = \\frac{\\partial L}{\\partial z^{[3]}} (a^{[2]})^T $ </center>\n",
    "   \n",
    "   \n",
    "   <center> $ \\frac{\\partial L}{\\partial b^{[3]}} = \\frac{\\partial L}{\\partial z^{[3]}} $ </center>\n",
    "   \n",
    "   \n",
    "   <center> $ \\frac{\\partial L}{\\partial z^{[2]}} = (W^{[3]})^T\\frac{\\partial L}{\\partial z^{[3]}}*a^{[2]}*(1-a^{[2]}) $ </center>\n",
    "   \n",
    "   \n",
    "   <center> $ \\frac{\\partial L}{\\partial w^{[2]}} = \\frac{\\partial L}{\\partial z^{[2]}} (a^{[2]})^T $ </center>\n",
    "   \n",
    "   \n",
    "   <center> $ \\frac{\\partial L}{\\partial b^{[2]}} = \\frac{\\partial L}{\\partial z^{[2]}} $ </center>\n",
    "   \n",
    "   <center> $ \\frac{\\partial L}{\\partial z^{[1]}} = (W^{[2]})^T\\frac{\\partial L}{\\partial z^{[2]}}*a^{[1]}*(1-a^{[1]}) $ </center>\n",
    "   \n",
    "   \n",
    "   <center> $ \\frac{\\partial L}{\\partial w^{[1]}} = \\frac{\\partial L}{\\partial z^{[1]}} (X)^T $ </center>\n",
    "   \n",
    "   \n",
    "   <center> $ \\frac{\\partial L}{\\partial b^{[1]}} = \\frac{\\partial L}{\\partial z^{[1]}} $ </center>\n",
    "   \n",
    "   **Sigmoid Activation Function**\n",
    "   <center> $ \\sigma(z) = \\frac{1}{1+ \\exp(-z)} $ </center>\n",
    "   \n",
    "   **ReLU Activation Function**\n",
    "   <center> $ ReLU(z) = max(z, 0) $ </center>\n",
    "   \n",
    "3. **Training:**\n",
    "\n",
    "    During training we first do forward propagation and then do backpropagation to find the derivatives of weights and biases. This is done several times.\n",
    "    \n",
    "4. **Testing**\n",
    "    During testing we perform the forward propagation. The predicted labels are:\n",
    "    <center> $ y' = 1 $ if $ a^{[L]} >= 0.5 $ </center>\n",
    "    <center> $ y' = 0 $ if $ a^{[L]} < 0.5 $ </center>\n",
    "    \n",
    "    where $a^{[L]}$ is the output of the network.\n",
    "    \n",
    "## Implementation"
   ]
  },
  {
   "cell_type": "code",
   "execution_count": 1,
   "metadata": {},
   "outputs": [],
   "source": [
    "import numpy as np\n",
    "import pandas as pd\n",
    "import matplotlib.pyplot as plt"
   ]
  },
  {
   "cell_type": "markdown",
   "metadata": {},
   "source": [
    "### Part 1: Non Linearly Separable Data"
   ]
  },
  {
   "cell_type": "code",
   "execution_count": 2,
   "metadata": {},
   "outputs": [],
   "source": [
    "m = 4000                            # Number of training examples\n",
    "\n",
    "mean1 = np.array([0, 0])            # Mean for class 1\n",
    "mean2 = np.array([10, 10])          # Mean for class 2\n",
    "mean3 = np.array([0, 20])           # Mean for class 1\n",
    "mean4 = np.array([-10, 10])         # Mean for class 2\n",
    "\n",
    "covariance = np.eye(2)              # Identity covariance matrix\n",
    "\n",
    "class_1 = np.random.multivariate_normal(mean1, covariance, m//4)    # Class 1 samples\n",
    "class_2 = np.random.multivariate_normal(mean2, covariance, m//4)    # Class 2 samples\n",
    "class_3 = np.random.multivariate_normal(mean3, covariance, m//4)    # Class 1 samples\n",
    "class_4 = np.random.multivariate_normal(mean4, covariance, m//4)    # Class 2 samples\n",
    "\n",
    "y1 = np.zeros(m//4)      # Class 1 labels\n",
    "y2 = np.ones(m//4)       # Class 2 labels\n",
    "y3 = np.zeros(m//4)       # Class 1 labels\n",
    "y4 = np.ones(m//4)       # Class 2 labels\n",
    "\n",
    "X = np.concatenate((class_1, class_2, class_3, class_4), axis=0).T   # Train data\n",
    "\n",
    "y = np.expand_dims(np.concatenate((y1, y2, y3, y4), axis=0), axis=-1).T    # Train labels"
   ]
  },
  {
   "cell_type": "code",
   "execution_count": 3,
   "metadata": {},
   "outputs": [
    {
     "data": {
      "image/png": "[encoded data removed]",
      "text/plain": [
       "<Figure size 432x288 with 1 Axes>"
      ]
     },
     "metadata": {
      "needs_background": "light"
     },
     "output_type": "display_data"
    }
   ],
   "source": [
    "# Plotting Train Data\n",
    "plt.figure()\n",
    "plt.scatter(X[0, :], X[1, :], c=y, s=10)\n",
    "plt.xlabel('x1')\n",
    "plt.ylabel('x2')\n",
    "plt.title('Train Data')\n",
    "plt.show()"
   ]
  },
  {
   "cell_type": "code",
   "execution_count": 4,
   "metadata": {},
   "outputs": [
    {
     "name": "stdout",
     "output_type": "stream",
     "text": [
      "Shape of the input vectors: (2, 4000)\n",
      "Shape of the output vectors: (1, 4000)\n"
     ]
    }
   ],
   "source": [
    "print(\"Shape of the input vectors:\", X.shape)\n",
    "print(\"Shape of the output vectors:\", y.shape)"
   ]
  },
  {
   "cell_type": "markdown",
   "metadata": {},
   "source": [
    "#### Perceptron Model"
   ]
  },
  {
   "cell_type": "code",
   "execution_count": 6,
   "metadata": {},
   "outputs": [],
   "source": [
    "def MissClassificationError(X, y, w):\n",
    "    '''\n",
    "        This function calculates the fraction of examples\n",
    "        misclassified by the perceptron.\n",
    "    '''\n",
    "    activation = np.dot(X, w)             # activation value\n",
    "    y_pred = np.where(activation > 0, 1, 0) # output value\n",
    "    \n",
    "    return np.sum((y != y_pred).any(axis=1), axis=0)/X.shape[0]   # error calculation"
   ]
  },
  {
   "cell_type": "code",
   "execution_count": 5,
   "metadata": {},
   "outputs": [],
   "source": [
    "def PerceptronLearningBatch(X, y, learning_rate=0.01, epochs=1000):\n",
    "    '''\n",
    "        This function implements the Perceptron Learning Law using\n",
    "        Batch update.\n",
    "    '''\n",
    "    errors = []          # List for storing errors\n",
    "\n",
    "    w=np.random.uniform(0,1,(X.shape[1],y.shape[1]))   # Weight initialisation\n",
    "    \n",
    "    for i in range(epochs):\n",
    "        activation = np.dot(X, w)                # activation value\n",
    "        output = np.where(activation > 0, 1, 0)  # output value\n",
    "\n",
    "        error = y - output                 # error\n",
    "\n",
    "        gradient = (learning_rate*np.dot(X.T, error))/(2*X.shape[0])     # gradient calculation\n",
    "\n",
    "        w = w + gradient                  # weight update\n",
    "        \n",
    "        # Error calculation \n",
    "        error = MissClassificationError(X, y, w)\n",
    "        errors.append(MissClassificationError(X, y, w))\n",
    "        \n",
    "        # Early stopping\n",
    "        if np.linalg.norm(gradient)<= 10**(-10):\n",
    "            break\n",
    "            \n",
    "    return w, errors"
   ]
  },
  {
   "cell_type": "code",
   "execution_count": 7,
   "metadata": {},
   "outputs": [],
   "source": [
    "w, errors = PerceptronLearningBatch(X.T, y.T, learning_rate=0.01, epochs=1000)  # Learning weights"
   ]
  },
  {
   "cell_type": "code",
   "execution_count": 12,
   "metadata": {},
   "outputs": [
    {
     "name": "stdout",
     "output_type": "stream",
     "text": [
      "Accuracy of the perceptron model is: 0.37375\n"
     ]
    }
   ],
   "source": [
    "accuracy = 1-MissClassificationError(X.T, y.T, w)\n",
    "print(\"Accuracy of the perceptron model is:\", accuracy)"
   ]
  },
  {
   "cell_type": "markdown",
   "metadata": {},
   "source": [
    "#### Three Layer Neural Network (One Hidden Layer)"
   ]
  },
  {
   "cell_type": "code",
   "execution_count": 52,
   "metadata": {},
   "outputs": [],
   "source": [
    "def sigmoid(z):\n",
    "    '''\n",
    "        This function calculates the sigmoid function of z.\n",
    "    '''\n",
    "    return 1/(1 + np.exp(-z))"
   ]
  },
  {
   "cell_type": "code",
   "execution_count": 51,
   "metadata": {},
   "outputs": [],
   "source": [
    "def mean_squared_error(X, y, W, b, forward_prop):\n",
    "    '''\n",
    "        This function calculates the mean squared error.\n",
    "    '''\n",
    "    z, a = forward_prop(X, W, b)        # Performing the forward pass\n",
    "    \n",
    "    return np.sum((y - a[\"a\" + str(len(W))])**2)/X.shape[1]    # Error calculation"
   ]
  },
  {
   "cell_type": "code",
   "execution_count": 50,
   "metadata": {},
   "outputs": [],
   "source": [
    "def init_weights(num_layers, units):\n",
    "    '''\n",
    "        This function initializes weights and biases for each of the \n",
    "        layer of the network\n",
    "    '''\n",
    "    W = {}     # Weight dictionary\n",
    "    b = {}     # Bias dictionary\n",
    "    \n",
    "    # Iterating over the layers\n",
    "    for i in range(num_layers):\n",
    "        W[\"w\" + str(i+1)] = np.random.randn(units[i+1], units[i])           # Weight initialization\n",
    "        b[\"b\" + str(i+1)] = np.expand_dims(np.zeros(units[i+1]), axis= -1)  # Bias initialization \n",
    "        \n",
    "    return W, b"
   ]
  },
  {
   "cell_type": "markdown",
   "metadata": {},
   "source": [
    "**Forward Propagation:**\n",
    "   \n",
    "<center> $z^{[1]} = W^{[1]}X + b^{[1]}$ </center>\n",
    "<center> $a^{[1]} = \\sigma(z^{[1]})$ </center>\n",
    "<center> $z^{[2]} = W^{[2]}a^{[1]} + b^{[2]}$ </center>\n",
    "<center> $a^{[2]} = \\sigma(z^{[2]})$ </center>"
   ]
  },
  {
   "cell_type": "code",
   "execution_count": 54,
   "metadata": {},
   "outputs": [],
   "source": [
    "def forward_propagation_one_hidden(X, W, b):\n",
    "    '''\n",
    "        This function implements the forward propagation\n",
    "        for a three layer neural network (one hidden layer).\n",
    "    '''\n",
    "    z = {}      # Activation value dictionary\n",
    "    a = {}      # Output value dictionary\n",
    "    \n",
    "    # First Layer \n",
    "    z[\"z1\"] = np.dot(W[\"w1\"], X) + b[\"b1\"]        # z1 calculation\n",
    "    a[\"a1\"] = sigmoid(z[\"z1\"])                    # a1 calculation\n",
    "    \n",
    "    # Second Layer\n",
    "    z[\"z2\"] = np.dot(W[\"w2\"], a[\"a1\"]) + b[\"b2\"]  # z2 calculation\n",
    "    a[\"a2\"] = sigmoid(z[\"z2\"])                    # a2 calculation\n",
    "    \n",
    "    return z, a"
   ]
  },
  {
   "cell_type": "markdown",
   "metadata": {},
   "source": [
    "**Backward Propagation:**\n",
    "   \n",
    "<center> $ \\frac{\\partial L}{\\partial z^{[2]}} = -(y - a^{[2]})*(a^{[2]})*(1-a^{[2]}) $ </center>\n",
    "\n",
    "\n",
    "<center> $ \\frac{\\partial L}{\\partial w^{[2]}} = \\frac{\\partial L}{\\partial z^{[2]}} (a^{[1]})^T $ </center>\n",
    "\n",
    "\n",
    "<center> $ \\frac{\\partial L}{\\partial b^{[2]}} = \\frac{\\partial L}{\\partial z^{[2]}} $ </center>\n",
    "\n",
    "\n",
    "<center> $ \\frac{\\partial L}{\\partial z^{[1]}} = (W^{[2]})^T\\frac{\\partial L}{\\partial z^{[2]}}*a^{[1]}*(1-a^{[1]}) $ </center>\n",
    "\n",
    "\n",
    "<center> $ \\frac{\\partial L}{\\partial w^{[1]}} = \\frac{\\partial L}{\\partial z^{[1]}} (X)^T $ </center>\n",
    "\n",
    "\n",
    "<center> $ \\frac{\\partial L}{\\partial b^{[1]}} = \\frac{\\partial L}{\\partial z^{[1]}} $ </center>"
   ]
  },
  {
   "cell_type": "code",
   "execution_count": 55,
   "metadata": {},
   "outputs": [],
   "source": [
    "def backpropagation_one_hidden(X, y, W, b, z, a):\n",
    "    '''\n",
    "        This function implements the backpropagation for\n",
    "        three layer neural network (one hidden layer).\n",
    "    '''\n",
    "    dW = {}               # Weight derivative dictionary\n",
    "    db = {}               # Bias derivative dictionary\n",
    "    dZ = {}               # Activation derivation dictionary\n",
    "    da = {}               # Output derivation dictionary\n",
    "    \n",
    "    # Second Layer\n",
    "    dZ[\"dz2\"] = -1*(y-a[\"a2\"])*a[\"a2\"]*(1-a[\"a2\"])                # dz2 calculation\n",
    "    dW[\"dw2\"] = np.dot(dZ[\"dz2\"], a[\"a1\"].T)/X.shape[1]           # dw2 calculation\n",
    "    db[\"db2\"] = np.expand_dims(np.sum(dZ[\"dz2\"], axis=1), axis=-1)/X.shape[1]   # db2 calculation\n",
    "    \n",
    "    # First Layer\n",
    "    dZ[\"dz1\"] = np.dot(W[\"w2\"].T, dZ[\"dz2\"])*a[\"a1\"]*(1-a[\"a1\"])  # dz1 calculation\n",
    "    dW[\"dw1\"] = np.dot(dZ[\"dz1\"], X.T)/X.shape[1]                 # dw1 calculation\n",
    "    db[\"db1\"] = np.expand_dims(np.sum(dZ[\"dz1\"], axis=1), axis=-1)/X.shape[1]  # db1 calculation\n",
    "    \n",
    "    return dW, db"
   ]
  },
  {
   "cell_type": "code",
   "execution_count": 58,
   "metadata": {},
   "outputs": [],
   "source": [
    "def one_hidden_layer_model(X, y, units, num_iterations=1000, learning_rate=0.01):\n",
    "    '''\n",
    "        This function implements a three layer neural \n",
    "        network (one hidden layer).\n",
    "    '''\n",
    "    errors = []                       # List for storing errors\n",
    "    W, b = init_weights(2, units)     # Weight initialisation\n",
    "    \n",
    "    # Epochs\n",
    "    for i in range(num_iterations):\n",
    "        z, a = forward_propagation_one_hidden(X, W, b)         # Forward pass\n",
    "        \n",
    "        dW, db = backpropagation_one_hidden(X, y, W, b, z, a)  # Backward pass\n",
    "        \n",
    "        # Weight Update for each layer\n",
    "        for j in range(1, len(dW)+1):\n",
    "            W[\"w\" + str(j)] = W[\"w\" + str(j)] - learning_rate*dW[\"dw\" + str(j)]   # Weight update\n",
    "            b[\"b\" + str(j)] = b[\"b\" + str(j)] - learning_rate*db[\"db\" + str(j)]   # Bias update\n",
    "            \n",
    "        errors.append(mean_squared_error(X, y, W, b, forward_propagation_one_hidden))   # Error calculation\n",
    "        \n",
    "        # Early stopping\n",
    "        if i > 2 and (errors[i-1] - errors[i]) < 10**(-20):\n",
    "            break\n",
    "    \n",
    "    return errors, W, b"
   ]
  },
  {
   "cell_type": "code",
   "execution_count": 63,
   "metadata": {},
   "outputs": [],
   "source": [
    "n0 = X.shape[0]     # Units in Input Layer\n",
    "n1 = 2              # Units in Hidden Layer\n",
    "n2 = 1              # Units in Output Layer\n",
    "errors, W, b = one_hidden_layer_model(X, y, [n0, n1, n2], learning_rate=1)   # Weight Calculation"
   ]
  },
  {
   "cell_type": "code",
   "execution_count": 64,
   "metadata": {},
   "outputs": [
    {
     "data": {
      "image/png": "[encoded data removed]",
      "text/plain": [
       "<Figure size 432x288 with 1 Axes>"
      ]
     },
     "metadata": {
      "needs_background": "light"
     },
     "output_type": "display_data"
    }
   ],
   "source": [
    "plt.figure()\n",
    "plt.plot(errors)\n",
    "plt.xlabel(\"Epochs\")\n",
    "plt.ylabel(\"Error\")\n",
    "plt.title(\"Error vs Epochs\")\n",
    "plt.show()"
   ]
  },
  {
   "cell_type": "code",
   "execution_count": 23,
   "metadata": {},
   "outputs": [
    {
     "name": "stdout",
     "output_type": "stream",
     "text": [
      "Accuracy of the three layer neural network is: 1.0\n"
     ]
    }
   ],
   "source": [
    "z, a = forward_propagation_one_hidden(X, W, b)\n",
    "y_pred = (a[\"a2\"] > 0.5).astype(np.int32)\n",
    "accuracy = 1 - np.sum((y_pred - y)**2)/X.shape[1] \n",
    "print(\"Accuracy of the three layer neural network is:\", accuracy)"
   ]
  },
  {
   "cell_type": "markdown",
   "metadata": {},
   "source": [
    "### Part 2: Non Convex Data"
   ]
  },
  {
   "cell_type": "code",
   "execution_count": 62,
   "metadata": {
    "scrolled": true
   },
   "outputs": [
    {
     "data": {
      "image/png": "[encoded data removed]",
      "text/plain": [
       "<Figure size 432x288 with 1 Axes>"
      ]
     },
     "metadata": {
      "needs_background": "light"
     },
     "output_type": "display_data"
    }
   ],
   "source": [
    "m = 4000\n",
    "theta = np.linspace(np.pi/2, 1.5*np.pi, m//2)            # Range of theta values\n",
    "radius = 0.5\n",
    "a = radius*np.cos(theta) + 0.1*np.random.rand(len(theta)) # X-coordinate\n",
    "b = radius*np.sin(theta) + 0.2*np.random.rand(len(theta)) # y-coordinate\n",
    "a = np.expand_dims(a, axis=-1).T\n",
    "b = np.expand_dims(b, axis=-1).T\n",
    "\n",
    "theta1 = np.linspace(-0.5*np.pi, 0.5*np.pi, m//2)                  # Range of theta values \n",
    "c = radius*np.cos(theta1) + 0.1*np.random.rand(len(theta1))        # X-coordinate\n",
    "d = 0.4 + radius*np.sin(theta1) + 0.2*np.random.rand(len(theta1))  # y-coordinate\n",
    "c = np.expand_dims(c, axis=-1).T\n",
    "d = np.expand_dims(d, axis=-1).T\n",
    "\n",
    "class_1 = np.concatenate([a, b], axis=0)\n",
    "class_2 = np.concatenate([c, d], axis=0)\n",
    "X = np.c_[class_1, class_2]      # Train data\n",
    "y = np.c_[np.zeros((1, class_1.shape[1])), np.ones((1, class_2.shape[1]))]  # Train labels\n",
    "\n",
    "# Plotting Train Data\n",
    "plt.figure()\n",
    "plt.scatter(X[0, :], X[1, :], c=y)\n",
    "plt.xlabel(\"X1\")\n",
    "plt.ylabel(\"X2\")\n",
    "plt.title(\"Train Data\")\n",
    "plt.show()"
   ]
  },
  {
   "cell_type": "markdown",
   "metadata": {},
   "source": [
    "#### Three Layer Neural Network (One Hidden Layer)"
   ]
  },
  {
   "cell_type": "code",
   "execution_count": 65,
   "metadata": {},
   "outputs": [],
   "source": [
    "n0 = X.shape[0]            # Units in Input Layer\n",
    "n1 = 2                     # Units in Hidden Layer\n",
    "n2 = 1                     # Units in Output Layer\n",
    "errors, W, b = one_hidden_layer_model(X, y, [n0, n1, n2], learning_rate=0.01)    # Weight calculation"
   ]
  },
  {
   "cell_type": "code",
   "execution_count": 27,
   "metadata": {},
   "outputs": [
    {
     "name": "stdout",
     "output_type": "stream",
     "text": [
      "Accuracy of the three layer neural network is: 0.40025\n"
     ]
    }
   ],
   "source": [
    "z, a = forward_propagation_one_hidden(X, W, b)\n",
    "y_pred = (a[\"a2\"] > 0.5).astype(np.int32)\n",
    "accuracy = 1 - np.sum((y_pred - y)**2)/X.shape[1] \n",
    "print(\"Accuracy of the three layer neural network is:\", accuracy)"
   ]
  },
  {
   "cell_type": "markdown",
   "metadata": {},
   "source": [
    "#### Four Layer Neural Network (Two Hidden Layers)"
   ]
  },
  {
   "cell_type": "markdown",
   "metadata": {},
   "source": [
    "**Forward Propagation:**\n",
    "   \n",
    "<center> $z^{[1]} = W^{[1]}X + b^{[1]}$ </center>\n",
    "<center> $a^{[1]} = \\sigma(z^{[1]})$ </center>\n",
    "<center> $z^{[2]} = W^{[2]}a^{[1]} + b^{[2]}$ </center>\n",
    "<center> $a^{[2]} = \\sigma(z^{[2]})$ </center>\n",
    "<center> $z^{[3]} = W^{[3]}a^{[2]} + b^{[3]}$ </center>\n",
    "<center> $a^{[3]} = \\sigma(z^{[3]})$ </center>"
   ]
  },
  {
   "cell_type": "code",
   "execution_count": 66,
   "metadata": {},
   "outputs": [],
   "source": [
    "def forward_propagation_two_hidden(X, W, b):\n",
    "    '''\n",
    "        This function implements the forward propagation\n",
    "        for a four layer neural network (two hidden layers).\n",
    "    '''\n",
    "    z = {}            # Activation value dictionary\n",
    "    a = {}            # Output value dictionary\n",
    "    \n",
    "    # First Layer\n",
    "    z[\"z1\"] = np.dot(W[\"w1\"], X) + b[\"b1\"]            # z1 calculation\n",
    "    a[\"a1\"] = sigmoid(z[\"z1\"])                        # a1 calculation\n",
    "    \n",
    "    # Second Layer\n",
    "    z[\"z2\"] = np.dot(W[\"w2\"], a[\"a1\"]) + b[\"b2\"]      # z2 calculation\n",
    "    a[\"a2\"] = sigmoid(z[\"z2\"])                        # a2 calculation\n",
    "    \n",
    "    # Third Layer\n",
    "    z[\"z3\"] = np.dot(W[\"w3\"], a[\"a2\"]) + b[\"b3\"]      # z3 calculation\n",
    "    a[\"a3\"] = sigmoid(z[\"z3\"])                        # a3 calculation\n",
    "    \n",
    "    return z, a"
   ]
  },
  {
   "cell_type": "markdown",
   "metadata": {},
   "source": [
    "**Backward Propagation:**\n",
    "   \n",
    "<center> $ \\frac{\\partial L}{\\partial z^{[3]}} = -(y - a^{[3]})*(a^{[3]})*(1-a^{[3]}) $ </center>\n",
    "\n",
    "\n",
    "<center> $ \\frac{\\partial L}{\\partial w^{[3]}} = \\frac{\\partial L}{\\partial z^{[3]}} (a^{[2]})^T $ </center>\n",
    "\n",
    "\n",
    "<center> $ \\frac{\\partial L}{\\partial b^{[3]}} = \\frac{\\partial L}{\\partial z^{[3]}} $ </center>\n",
    "\n",
    "\n",
    "<center> $ \\frac{\\partial L}{\\partial z^{[2]}} = (W^{[3]})^T\\frac{\\partial L}{\\partial z^{[3]}}*a^{[2]}*(1-a^{[2]}) $ </center>\n",
    "\n",
    "\n",
    "<center> $ \\frac{\\partial L}{\\partial w^{[2]}} = \\frac{\\partial L}{\\partial z^{[2]}} (a^{[2]})^T $ </center>\n",
    "\n",
    "\n",
    "<center> $ \\frac{\\partial L}{\\partial b^{[2]}} = \\frac{\\partial L}{\\partial z^{[2]}} $ </center>\n",
    "\n",
    "<center> $ \\frac{\\partial L}{\\partial z^{[1]}} = (W^{[2]})^T\\frac{\\partial L}{\\partial z^{[2]}}*a^{[1]}*(1-a^{[1]}) $ </center>\n",
    "\n",
    "\n",
    "<center> $ \\frac{\\partial L}{\\partial w^{[1]}} = \\frac{\\partial L}{\\partial z^{[1]}} (X)^T $ </center>\n",
    "\n",
    "\n",
    "<center> $ \\frac{\\partial L}{\\partial b^{[1]}} = \\frac{\\partial L}{\\partial z^{[1]}} $ </center>"
   ]
  },
  {
   "cell_type": "code",
   "execution_count": 68,
   "metadata": {},
   "outputs": [],
   "source": [
    "def backpropagation_two_hidden(X, y, W, b, z, a):\n",
    "    '''\n",
    "        This function implements the backpropagation for\n",
    "        four layer neural network (two hidden layers).\n",
    "    '''\n",
    "    dW = {}               # Weight derivative dictionary\n",
    "    db = {}               # Bias derivative dictionary\n",
    "    dZ = {}               # Activation derivation dictionary\n",
    "    da = {}               # Output derivation dictionary\n",
    "    \n",
    "    # Third Layer\n",
    "    dZ[\"dz3\"] = -1*(y-a[\"a3\"])*a[\"a3\"]*(1-a[\"a3\"])              # dz3 calculation\n",
    "    dW[\"dw3\"] = np.dot(dZ[\"dz3\"], a[\"a2\"].T)/X.shape[1]         # dw3 calculation\n",
    "    db[\"db3\"] = np.expand_dims(np.sum(dZ[\"dz3\"], axis=1), axis=-1)/X.shape[1]    # db3 calculation\n",
    "    \n",
    "    # Second Layer\n",
    "    dZ[\"dz2\"] = np.dot(W[\"w3\"].T, dZ[\"dz3\"])*a[\"a2\"]*(1-a[\"a2\"])     # dz2 calculation\n",
    "    dW[\"dw2\"] = np.dot(dZ[\"dz2\"], a[\"a1\"].T)/X.shape[1]              # dw2 calculation\n",
    "    db[\"db2\"] = np.expand_dims(np.sum(dZ[\"dz2\"], axis=1), axis=-1)/X.shape[1]    # db2 calculation\n",
    "    \n",
    "    # First Layer\n",
    "    dZ[\"dz1\"] = np.dot(W[\"w2\"].T, dZ[\"dz2\"])*a[\"a1\"]*(1-a[\"a1\"])     # dz1 calculation\n",
    "    dW[\"dw1\"] = np.dot(dZ[\"dz1\"], X.T)/X.shape[1]                    # dw1 calculation\n",
    "    db[\"db1\"] = np.expand_dims(np.sum(dZ[\"dz1\"], axis=1), axis=-1)/X.shape[1]    # db1 calculation\n",
    "    \n",
    "    return dW, db"
   ]
  },
  {
   "cell_type": "code",
   "execution_count": 69,
   "metadata": {},
   "outputs": [],
   "source": [
    "def two_hidden_layer_model(X, y, units, num_iterations=1000, learning_rate=0.01):\n",
    "    '''\n",
    "        This function implements a four layer neural \n",
    "        network (two hidden layers).\n",
    "    '''\n",
    "    errors = []             # List for storing errors\n",
    "    W, b = init_weights(3, units)     # Weight initialization\n",
    "    \n",
    "    # Epochs\n",
    "    for i in range(num_iterations):\n",
    "        z, a = forward_propagation_two_hidden(X, W, b)         # Forward Propagation\n",
    "        \n",
    "        dW, db = backpropagation_two_hidden(X, y, W, b, z, a)  # Backward Propagation\n",
    "        \n",
    "        # Weight update for each layer\n",
    "        for j in range(1, len(dW)+1):\n",
    "            W[\"w\" + str(j)] = W[\"w\" + str(j)] - learning_rate*dW[\"dw\" + str(j)]    # Weight update\n",
    "            b[\"b\" + str(j)] = b[\"b\" + str(j)] - learning_rate*db[\"db\" + str(j)]    # Bias update\n",
    "            \n",
    "        errors.append(mean_squared_error(X, y, W, b, forward_propagation_two_hidden))    # Error calculation\n",
    "        \n",
    "        # Early stopping\n",
    "        if i > 2 and (errors[i-1] - errors[i]) < 10**(-20):\n",
    "            break\n",
    "    \n",
    "    return errors, W, b, dW, db"
   ]
  },
  {
   "cell_type": "code",
   "execution_count": 70,
   "metadata": {},
   "outputs": [],
   "source": [
    "n0 = X.shape[0]             # Units in Input Layer\n",
    "n1 = 4                      # Units in Hidden Layer 1\n",
    "n2 = 2                      # Units in Hidden Layer 2\n",
    "n3 = 1                      # Units in Output Layer\n",
    "errors, W, b, dW, db = two_hidden_layer_model(X, y, [n0, n1, n2, n3], learning_rate=1, num_iterations=2000) # Weight calculation"
   ]
  },
  {
   "cell_type": "code",
   "execution_count": 71,
   "metadata": {
    "scrolled": true
   },
   "outputs": [
    {
     "data": {
      "image/png": "[encoded data removed]",
      "text/plain": [
       "<Figure size 432x288 with 1 Axes>"
      ]
     },
     "metadata": {
      "needs_background": "light"
     },
     "output_type": "display_data"
    }
   ],
   "source": [
    "plt.figure()\n",
    "plt.plot(errors)\n",
    "plt.xlabel(\"Epochs\")\n",
    "plt.ylabel(\"Error\")\n",
    "plt.title(\"Error vs Epochs\")\n",
    "plt.show()"
   ]
  },
  {
   "cell_type": "code",
   "execution_count": 72,
   "metadata": {},
   "outputs": [
    {
     "name": "stdout",
     "output_type": "stream",
     "text": [
      "The accuracy of four layer neural network is: 0.988\n"
     ]
    }
   ],
   "source": [
    "z, a = forward_propagation_two_hidden(X, W, b)\n",
    "y_pred = (a[\"a3\"] > 0.5).astype(np.int32)\n",
    "accuracy = 1 - np.sum((y_pred - y)**2)/X.shape[1]\n",
    "print(\"The accuracy of four layer neural network is:\", accuracy)"
   ]
  },
  {
   "cell_type": "markdown",
   "metadata": {},
   "source": [
    "### Part 3: Vanishing/Exploding Gradients"
   ]
  },
  {
   "cell_type": "code",
   "execution_count": 39,
   "metadata": {},
   "outputs": [],
   "source": [
    "W, b = init_weights(3, [n0, n1, n2, n3])\n",
    "z, a = forward_propagation_two_hidden(X, W, b)\n",
    "dW, db = backpropagation_two_hidden(X, y, W, b, z, a)"
   ]
  },
  {
   "cell_type": "code",
   "execution_count": 40,
   "metadata": {
    "scrolled": true
   },
   "outputs": [
    {
     "name": "stdout",
     "output_type": "stream",
     "text": [
      "First Layer Derivative of Weights:\n",
      "---------------------------------\n",
      "[[ 4.63044786e-03  2.44330375e-03]\n",
      " [-1.25887241e-03 -6.90715225e-04]\n",
      " [ 3.67335806e-03  1.99496571e-03]\n",
      " [-1.77858116e-04 -6.61132529e-05]]\n",
      "\n",
      "Second Layer Derivative of Weights:\n",
      "---------------------------------\n",
      "[[-0.00129734  0.00054467 -0.00191316 -0.00288637]\n",
      " [ 0.00278836 -0.00214778  0.00431913  0.00703607]]\n",
      "\n",
      "Third Layer Derivative of Weights:\n",
      "---------------------------------\n",
      "[[0.00933389 0.00335446]]\n"
     ]
    }
   ],
   "source": [
    "print(\"First Layer Derivative of Weights:\")\n",
    "print(\"---------------------------------\")\n",
    "print(dW[\"dw1\"])\n",
    "print()\n",
    "print(\"Second Layer Derivative of Weights:\")\n",
    "print(\"---------------------------------\")\n",
    "print(dW[\"dw2\"])\n",
    "print()\n",
    "print(\"Third Layer Derivative of Weights:\")\n",
    "print(\"---------------------------------\")\n",
    "print(dW[\"dw3\"])"
   ]
  },
  {
   "cell_type": "markdown",
   "metadata": {},
   "source": [
    "#### ReLU activation function"
   ]
  },
  {
   "cell_type": "code",
   "execution_count": 73,
   "metadata": {},
   "outputs": [],
   "source": [
    "def relu(z):\n",
    "    '''\n",
    "        This function calculates the ReLU function for z.\n",
    "    '''\n",
    "    return np.where(z > 0, z, 0)"
   ]
  },
  {
   "cell_type": "code",
   "execution_count": 74,
   "metadata": {},
   "outputs": [],
   "source": [
    "def derivative_of_relu(z):\n",
    "    '''\n",
    "        This function calculates the derivative of ReLU\n",
    "        activation function at z.\n",
    "    '''\n",
    "    return np.where(z > 0, 1, 0)"
   ]
  },
  {
   "cell_type": "code",
   "execution_count": 75,
   "metadata": {},
   "outputs": [],
   "source": [
    "def forward_propagation_two_hidden(X, W, b):\n",
    "    '''\n",
    "        This function implements the forward propagation\n",
    "        for a four layer neural network (two hidden layers).\n",
    "    '''\n",
    "    z = {}            # Activation value dictionary\n",
    "    a = {}            # Output value dictionary\n",
    "    \n",
    "    # First Layer\n",
    "    z[\"z1\"] = np.dot(W[\"w1\"], X) + b[\"b1\"]            # z1 calculation\n",
    "    a[\"a1\"] = relu(z[\"z1\"])                        # a1 calculation\n",
    "    \n",
    "    # Second Layer\n",
    "    z[\"z2\"] = np.dot(W[\"w2\"], a[\"a1\"]) + b[\"b2\"]      # z2 calculation\n",
    "    a[\"a2\"] = relu(z[\"z2\"])                        # a2 calculation\n",
    "    \n",
    "    # Third Layer\n",
    "    z[\"z3\"] = np.dot(W[\"w3\"], a[\"a2\"]) + b[\"b3\"]      # z3 calculation\n",
    "    a[\"a3\"] = relu(z[\"z3\"])                        # a3 calculation\n",
    "    \n",
    "    return z, a"
   ]
  },
  {
   "cell_type": "code",
   "execution_count": 76,
   "metadata": {},
   "outputs": [],
   "source": [
    "def backpropagation_two_hidden(X, y, W, b, z, a):\n",
    "    '''\n",
    "        This function implements the backpropagation for\n",
    "        four layer neural network (two hidden layers).\n",
    "    '''\n",
    "    dW = {}               # Weight derivative dictionary\n",
    "    db = {}               # Bias derivative dictionary\n",
    "    dZ = {}               # Activation derivation dictionary\n",
    "    da = {}               # Output derivation dictionary\n",
    "    \n",
    "    # Third Layer\n",
    "    dZ[\"dz3\"] = -1*(y-a[\"a3\"])*derivative_of_relu(a[\"a3\"])              # dz3 calculation\n",
    "    dW[\"dw3\"] = np.dot(dZ[\"dz3\"], a[\"a2\"].T)/X.shape[1]         # dw3 calculation\n",
    "    db[\"db3\"] = np.expand_dims(np.sum(dZ[\"dz3\"], axis=1), axis=-1)/X.shape[1]    # db3 calculation\n",
    "    \n",
    "    # Second Layer\n",
    "    dZ[\"dz2\"] = np.dot(W[\"w3\"].T, dZ[\"dz3\"])*derivative_of_relu(a[\"a2\"])     # dz2 calculation\n",
    "    dW[\"dw2\"] = np.dot(dZ[\"dz2\"], a[\"a1\"].T)/X.shape[1]              # dw2 calculation\n",
    "    db[\"db2\"] = np.expand_dims(np.sum(dZ[\"dz2\"], axis=1), axis=-1)/X.shape[1]    # db2 calculation\n",
    "    \n",
    "    # First Layer\n",
    "    dZ[\"dz1\"] = np.dot(W[\"w2\"].T, dZ[\"dz2\"])*derivative_of_relu(a[\"a1\"])     # dz1 calculation\n",
    "    dW[\"dw1\"] = np.dot(dZ[\"dz1\"], X.T)/X.shape[1]                    # dw1 calculation\n",
    "    db[\"db1\"] = np.expand_dims(np.sum(dZ[\"dz1\"], axis=1), axis=-1)/X.shape[1]    # db1 calculation\n",
    "    \n",
    "    return dW, db"
   ]
  },
  {
   "cell_type": "code",
   "execution_count": 77,
   "metadata": {},
   "outputs": [],
   "source": [
    "W, b = init_weights(3, [n0, n1, n2, n3])\n",
    "z, a = forward_propagation_two_hidden(X, W, b)\n",
    "dW, db = backpropagation_two_hidden(X, y, W, b, z, a)"
   ]
  },
  {
   "cell_type": "code",
   "execution_count": 49,
   "metadata": {},
   "outputs": [
    {
     "name": "stdout",
     "output_type": "stream",
     "text": [
      "First Layer Derivative of Weights:\n",
      "---------------------------------\n",
      "[[-0.04774032 -0.0420534 ]\n",
      " [ 0.0050646   0.00051374]\n",
      " [ 0.01572312  0.00034915]\n",
      " [-0.04050851 -0.01572142]]\n",
      "\n",
      "Second Layer Derivative of Weights:\n",
      "---------------------------------\n",
      "[[ 0.04655267  0.          0.00387487  0.        ]\n",
      " [-0.0149993   0.04032888  0.00036626  0.09606803]]\n",
      "\n",
      "Third Layer Derivative of Weights:\n",
      "---------------------------------\n",
      "[[-0.02075889  0.26848618]]\n"
     ]
    }
   ],
   "source": [
    "print(\"First Layer Derivative of Weights:\")\n",
    "print(\"---------------------------------\")\n",
    "print(dW[\"dw1\"])\n",
    "print()\n",
    "print(\"Second Layer Derivative of Weights:\")\n",
    "print(\"---------------------------------\")\n",
    "print(dW[\"dw2\"])\n",
    "print()\n",
    "print(\"Third Layer Derivative of Weights:\")\n",
    "print(\"---------------------------------\")\n",
    "print(dW[\"dw3\"])"
   ]
  },
  {
   "cell_type": "markdown",
   "metadata": {},
   "source": [
    "## Observations\n",
    "| Input Data | Model | Accuarcy |\n",
    "| --- | --- | --- |\n",
    "| Non-Linearly Separable | Perceptron Model | 0.37375 |\n",
    "| | Three Layer Neural Network | 1.0 |\n",
    "| Non-Convex | Three Layer Neural Network | 0.40025 |\n",
    "| | Four Layer Neural Network | 0.988 |\n",
    "\n",
    "## Conclusion\n",
    "* Two layer neural network (i.e. one output layer) is not able to classify non-linearly separable data. This problem can be solved using 3 layer neural network with sigmoid activation function.\n",
    "* Three layer neural network is not able to classify non-convex data. This problem can be solved using 4 layer neural network with sigmoid activation function.\n",
    "* As we increase the number of hidden layers in a neural network with sigmoid activation function, the network suffers from the problem of vanishing/exploding gradients. \n",
    "* The problem of vanishing/exploding gradients can be resolved using ReLU activation function. \n",
    "\n",
    "## References\n",
    "1. Artificial Neural Networks, B. Yegnanaryana, 1999"
   ]
  }
 ],
 "metadata": {
  "kernelspec": {
   "display_name": "Python 3",
   "language": "python",
   "name": "python3"
  },
  "language_info": {
   "codemirror_mode": {
    "name": "ipython",
    "version": 3
   },
   "file_extension": ".py",
   "mimetype": "text/x-python",
   "name": "python",
   "nbconvert_exporter": "python",
   "pygments_lexer": "ipython3",
   "version": "3.6.8"
  }
 },
 "nbformat": 4,
 "nbformat_minor": 4
}
