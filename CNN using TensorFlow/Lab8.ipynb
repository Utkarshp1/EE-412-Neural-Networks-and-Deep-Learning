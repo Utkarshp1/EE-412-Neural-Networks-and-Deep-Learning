{
 "cells": [
  {
   "cell_type": "markdown",
   "metadata": {
    "id": "m5fr5NL2Ne-r"
   },
   "source": [
    "# Lab 8\n",
    "* **Name**: Utkarsh Prakash\n",
    "\n",
    "## Title\n",
    "Demostrate the working principle of convolution neural networks.\n",
    "\n",
    "## Objective\n",
    "* To train a CNN for the Fashion MNIST dataset.\n",
    "* To observe the information learned by each convolutional layer with different filters.\n",
    "* To observe the vanishing/exploding gradient problem with increase in number of layers.\n",
    "\n",
    "## Hypothesis:\n",
    "* The lower layers of the CNN should learn basic features wheareas later layers of the network should learn high level features.\n",
    "* As we increase the number of layers, the network should suffer from the problem of vanishing gradients when the activation function is sigmoid and weights are initialized randomly according to normal distribution.\n",
    "\n",
    "## Experimental Description:\n",
    "1. **Data Generation:**\n",
    "\n",
    "    We use Fashion MNIST data for training and testing.\n",
    "    The Fashion MNIST dataset consists of following 10 classes:\n",
    "    * T-shirt/top\n",
    "    * Trouser\n",
    "    * Pullover\n",
    "    * Dress\n",
    "    * Coat\n",
    "    * Sandal\n",
    "    * Shirt\n",
    "    * Sneaker\n",
    "    * Bag\n",
    "    * Ankle Boot\n",
    "\n",
    "2. **Neural Network Architecture:**\n",
    "\n",
    "![CNN Architecture](tmp/Capture.png)\n",
    "\n",
    "3. **Training and Cross Validation:**\n",
    "    \n",
    "    For training we use 55,000 images and for cross-validation we use 5,000 images. We use Keras Early Stopping Callback to stop the training if there is no improvement over validation loss for 10 consecutive epochs.\n",
    "    \n",
    "\n",
    "4. **Testing:**\n",
    "    For testing we use 5,000 images.\n",
    "\n",
    "\n",
    "## Implementation\n",
    "### Part1: Training CNN"
   ]
  },
  {
   "cell_type": "code",
   "execution_count": 1,
   "metadata": {
    "id": "JRqrPaoB3KO9"
   },
   "outputs": [],
   "source": [
    "import numpy as np\n",
    "import tensorflow as tf\n",
    "from tensorflow import keras\n",
    "import matplotlib.pyplot as plt \n",
    "import pandas as pd"
   ]
  },
  {
   "cell_type": "code",
   "execution_count": 29,
   "metadata": {
    "colab": {
     "base_uri": "https://localhost:8080/"
    },
    "id": "wBuExW-cHScl",
    "outputId": "aa17f2e7-0c09-44d1-e33b-94ca369a3b82"
   },
   "outputs": [
    {
     "name": "stdout",
     "output_type": "stream",
     "text": [
      "Mounted at /content/gdrive\n"
     ]
    }
   ],
   "source": [
    "from google.colab import drive\n",
    "drive.mount('/content/gdrive')"
   ]
  },
  {
   "cell_type": "code",
   "execution_count": 34,
   "metadata": {
    "colab": {
     "base_uri": "https://localhost:8080/"
    },
    "id": "Yn5Ss2iYHbTt",
    "outputId": "e1a0077c-3ab1-4138-e103-2499ed70143c"
   },
   "outputs": [
    {
     "name": "stdout",
     "output_type": "stream",
     "text": [
      "/content/gdrive/My Drive/NNDL_Lab\n"
     ]
    }
   ],
   "source": [
    "#changing the working directory\n",
    "%cd /content/gdrive/MyDrive/NNDL_Lab\n",
    "#Check the present working directory using pwd command"
   ]
  },
  {
   "cell_type": "code",
   "execution_count": 2,
   "metadata": {
    "colab": {
     "base_uri": "https://localhost:8080/"
    },
    "id": "DbvcaBHL3WUy",
    "outputId": "e7587017-ab1a-481d-ef34-71fc96cf26c0"
   },
   "outputs": [
    {
     "name": "stdout",
     "output_type": "stream",
     "text": [
      "Downloading data from https://storage.googleapis.com/tensorflow/tf-keras-datasets/train-labels-idx1-ubyte.gz\n",
      "32768/29515 [=================================] - 0s 0us/step\n",
      "Downloading data from https://storage.googleapis.com/tensorflow/tf-keras-datasets/train-images-idx3-ubyte.gz\n",
      "26427392/26421880 [==============================] - 0s 0us/step\n",
      "Downloading data from https://storage.googleapis.com/tensorflow/tf-keras-datasets/t10k-labels-idx1-ubyte.gz\n",
      "8192/5148 [===============================================] - 0s 0us/step\n",
      "Downloading data from https://storage.googleapis.com/tensorflow/tf-keras-datasets/t10k-images-idx3-ubyte.gz\n",
      "4423680/4422102 [==============================] - 0s 0us/step\n"
     ]
    },
    {
     "data": {
      "text/plain": [
       "((55000, 28, 28, 1),\n",
       " (55000,),\n",
       " (5000, 28, 28, 1),\n",
       " (5000,),\n",
       " (10000, 28, 28, 1),\n",
       " (10000,))"
      ]
     },
     "execution_count": 2,
     "metadata": {
      "tags": []
     },
     "output_type": "execute_result"
    }
   ],
   "source": [
    "# Loading Fashion MNIST data\n",
    "fashion_mnist = tf.keras.datasets.fashion_mnist\n",
    "(X_train_full, y_train_full), (X_test, y_test) = fashion_mnist.load_data()\n",
    "X_train_full = np.expand_dims(X_train_full, axis=-1)\n",
    "X_test = np.expand_dims(X_test, axis=-1)\n",
    "\n",
    "# Normalizing the images\n",
    "X_train_full, X_test = X_train_full/255.0, X_test/255.0\n",
    "\n",
    "# Creating Cross-validation data\n",
    "X_val, X_train = X_train_full[:5000], X_train_full[5000:]\n",
    "y_val, y_train = y_train_full[:5000], y_train_full[5000:]\n",
    "\n",
    "X_train.shape, y_train.shape, X_val.shape, y_val.shape, X_test.shape, y_test.shape"
   ]
  },
  {
   "cell_type": "code",
   "execution_count": 3,
   "metadata": {
    "colab": {
     "base_uri": "https://localhost:8080/",
     "height": 122
    },
    "id": "cQAT0URN36tD",
    "outputId": "7cfd5d68-8174-4548-a95f-9efb4d5b830a"
   },
   "outputs": [
    {
     "data": {
      "text/plain": [
       "<matplotlib.image.AxesImage at 0x7fae4cd20950>"
      ]
     },
     "execution_count": 3,
     "metadata": {
      "tags": []
     },
     "output_type": "execute_result"
    },
    {
     "data": {
      "image/png": "[encoded data removed]",
      "text/plain": [
       "<Figure size 72x72 with 1 Axes>"
      ]
     },
     "metadata": {
      "needs_background": "light",
      "tags": []
     },
     "output_type": "display_data"
    }
   ],
   "source": [
    "# An image from Training Data\n",
    "plt.figure(figsize=(1, 1))\n",
    "plt.imshow((X_train*255.0)[0, :, :, 0])"
   ]
  },
  {
   "cell_type": "code",
   "execution_count": 4,
   "metadata": {
    "id": "43-C9k6u6kbx"
   },
   "outputs": [],
   "source": [
    "model = tf.keras.models.Sequential([\n",
    "            tf.keras.layers.Conv2D(64, kernel_size=(3,3), activation='relu', input_shape=(28, 28, 1)),      # Convolution Layer\n",
    "            tf.keras.layers.MaxPool2D(2, 2),                                                                # Max Pooling Layer    \n",
    "            tf.keras.layers.Conv2D(64, kernel_size=(3,3), activation='relu'),                               # Convolution Layer      \n",
    "            tf.keras.layers.MaxPool2D(2, 2),                                                                # Max Pooling Layer\n",
    "            tf.keras.layers.Conv2D(128, kernel_size=(3,3), activation='relu'),                              # Convolution Layer    \n",
    "            tf.keras.layers.MaxPool2D(2, 2),                                                                # Max Pooling Layer\n",
    "            tf.keras.layers.Flatten(),                                                                      # Flatten Layer\n",
    "            tf.keras.layers.Dense(128, activation='relu'),                                                  # Dense Layer\n",
    "            tf.keras.layers.Dense(10, activation='softmax')                                                 # Dense Layer\n",
    "])\n",
    "model.compile(optimizer='adam', loss='sparse_categorical_crossentropy', metrics=['accuracy'])"
   ]
  },
  {
   "cell_type": "code",
   "execution_count": 7,
   "metadata": {
    "colab": {
     "base_uri": "https://localhost:8080/"
    },
    "id": "sHSxTmnHDDfZ",
    "outputId": "e211acca-bc80-4364-a234-d9cec39bdb78"
   },
   "outputs": [
    {
     "name": "stdout",
     "output_type": "stream",
     "text": [
      "Model: \"sequential\"\n",
      "_________________________________________________________________\n",
      "Layer (type)                 Output Shape              Param #   \n",
      "=================================================================\n",
      "conv2d (Conv2D)              (None, 26, 26, 64)        640       \n",
      "_________________________________________________________________\n",
      "max_pooling2d (MaxPooling2D) (None, 13, 13, 64)        0         \n",
      "_________________________________________________________________\n",
      "conv2d_1 (Conv2D)            (None, 11, 11, 64)        36928     \n",
      "_________________________________________________________________\n",
      "max_pooling2d_1 (MaxPooling2 (None, 5, 5, 64)          0         \n",
      "_________________________________________________________________\n",
      "conv2d_2 (Conv2D)            (None, 3, 3, 128)         73856     \n",
      "_________________________________________________________________\n",
      "max_pooling2d_2 (MaxPooling2 (None, 1, 1, 128)         0         \n",
      "_________________________________________________________________\n",
      "flatten (Flatten)            (None, 128)               0         \n",
      "_________________________________________________________________\n",
      "dense (Dense)                (None, 128)               16512     \n",
      "_________________________________________________________________\n",
      "dense_1 (Dense)              (None, 10)                1290      \n",
      "=================================================================\n",
      "Total params: 129,226\n",
      "Trainable params: 129,226\n",
      "Non-trainable params: 0\n",
      "_________________________________________________________________\n"
     ]
    }
   ],
   "source": [
    "model.summary()"
   ]
  },
  {
   "cell_type": "code",
   "execution_count": 5,
   "metadata": {
    "id": "FHyBo_3f3_gS"
   },
   "outputs": [],
   "source": [
    "class PrintValTrainRatioCallback(keras.callbacks.Callback):\n",
    "    '''\n",
    "        Callback for printing the ratio of Validation loss and Training loss.\n",
    "    '''\n",
    "\n",
    "    def on_epoch_end(self, epoch, logs):\n",
    "        print(\"\\nRatio of Validation loss to Training loss = {:.2f}\".format(logs[\"val_loss\"]/logs[\"loss\"]))"
   ]
  },
  {
   "cell_type": "code",
   "execution_count": 6,
   "metadata": {
    "id": "PJT5lJ6V5KWO"
   },
   "outputs": [],
   "source": [
    "# Instantiating callbacks\n",
    "print_callback = PrintValTrainRatioCallback()\n",
    "early_stopping_callback = keras.callbacks.EarlyStopping(patience=10, restore_best_weights=True)"
   ]
  },
  {
   "cell_type": "code",
   "execution_count": 8,
   "metadata": {
    "colab": {
     "base_uri": "https://localhost:8080/"
    },
    "id": "w7-la9nx9Pmy",
    "outputId": "746e50d6-0e62-4b60-def3-1a962147ea06"
   },
   "outputs": [
    {
     "name": "stdout",
     "output_type": "stream",
     "text": [
      "Epoch 1/50\n",
      "1719/1719 [==============================] - 39s 4ms/step - loss: 0.7789 - accuracy: 0.7170 - val_loss: 0.4023 - val_accuracy: 0.8520\n",
      "\n",
      "Ratio of Validation loss to Training loss = 0.71\n",
      "Epoch 2/50\n",
      "1719/1719 [==============================] - 6s 4ms/step - loss: 0.3977 - accuracy: 0.8522 - val_loss: 0.3430 - val_accuracy: 0.8726\n",
      "\n",
      "Ratio of Validation loss to Training loss = 0.90\n",
      "Epoch 3/50\n",
      "1719/1719 [==============================] - 6s 4ms/step - loss: 0.3294 - accuracy: 0.8769 - val_loss: 0.3123 - val_accuracy: 0.8840\n",
      "\n",
      "Ratio of Validation loss to Training loss = 0.96\n",
      "Epoch 4/50\n",
      "1719/1719 [==============================] - 6s 4ms/step - loss: 0.2885 - accuracy: 0.8925 - val_loss: 0.2951 - val_accuracy: 0.8866\n",
      "\n",
      "Ratio of Validation loss to Training loss = 1.02\n",
      "Epoch 5/50\n",
      "1719/1719 [==============================] - 6s 4ms/step - loss: 0.2593 - accuracy: 0.9012 - val_loss: 0.2867 - val_accuracy: 0.8910\n",
      "\n",
      "Ratio of Validation loss to Training loss = 1.11\n",
      "Epoch 6/50\n",
      "1719/1719 [==============================] - 6s 4ms/step - loss: 0.2365 - accuracy: 0.9099 - val_loss: 0.2957 - val_accuracy: 0.8886\n",
      "\n",
      "Ratio of Validation loss to Training loss = 1.24\n",
      "Epoch 7/50\n",
      "1719/1719 [==============================] - 6s 4ms/step - loss: 0.2120 - accuracy: 0.9192 - val_loss: 0.2846 - val_accuracy: 0.8952\n",
      "\n",
      "Ratio of Validation loss to Training loss = 1.31\n",
      "Epoch 8/50\n",
      "1719/1719 [==============================] - 6s 4ms/step - loss: 0.1945 - accuracy: 0.9260 - val_loss: 0.2978 - val_accuracy: 0.8972\n",
      "\n",
      "Ratio of Validation loss to Training loss = 1.50\n",
      "Epoch 9/50\n",
      "1719/1719 [==============================] - 6s 4ms/step - loss: 0.1785 - accuracy: 0.9336 - val_loss: 0.2868 - val_accuracy: 0.9048\n",
      "\n",
      "Ratio of Validation loss to Training loss = 1.58\n",
      "Epoch 10/50\n",
      "1719/1719 [==============================] - 6s 4ms/step - loss: 0.1593 - accuracy: 0.9388 - val_loss: 0.2982 - val_accuracy: 0.8946\n",
      "\n",
      "Ratio of Validation loss to Training loss = 1.78\n",
      "Epoch 11/50\n",
      "1719/1719 [==============================] - 6s 4ms/step - loss: 0.1491 - accuracy: 0.9432 - val_loss: 0.3209 - val_accuracy: 0.9028\n",
      "\n",
      "Ratio of Validation loss to Training loss = 2.06\n",
      "Epoch 12/50\n",
      "1719/1719 [==============================] - 6s 4ms/step - loss: 0.1377 - accuracy: 0.9470 - val_loss: 0.3176 - val_accuracy: 0.9022\n",
      "\n",
      "Ratio of Validation loss to Training loss = 2.24\n",
      "Epoch 13/50\n",
      "1719/1719 [==============================] - 6s 4ms/step - loss: 0.1288 - accuracy: 0.9509 - val_loss: 0.3120 - val_accuracy: 0.8998\n",
      "\n",
      "Ratio of Validation loss to Training loss = 2.34\n",
      "Epoch 14/50\n",
      "1719/1719 [==============================] - 6s 4ms/step - loss: 0.1137 - accuracy: 0.9567 - val_loss: 0.3622 - val_accuracy: 0.8932\n",
      "\n",
      "Ratio of Validation loss to Training loss = 2.98\n",
      "Epoch 15/50\n",
      "1719/1719 [==============================] - 6s 4ms/step - loss: 0.1092 - accuracy: 0.9584 - val_loss: 0.3667 - val_accuracy: 0.8936\n",
      "\n",
      "Ratio of Validation loss to Training loss = 3.19\n",
      "Epoch 16/50\n",
      "1719/1719 [==============================] - 6s 4ms/step - loss: 0.0965 - accuracy: 0.9635 - val_loss: 0.3802 - val_accuracy: 0.8926\n",
      "\n",
      "Ratio of Validation loss to Training loss = 3.63\n",
      "Epoch 17/50\n",
      "1719/1719 [==============================] - 6s 4ms/step - loss: 0.0953 - accuracy: 0.9639 - val_loss: 0.4257 - val_accuracy: 0.8958\n",
      "\n",
      "Ratio of Validation loss to Training loss = 4.32\n"
     ]
    }
   ],
   "source": [
    "# Training the model\n",
    "history = model.fit(X_train, y_train, epochs=50, \n",
    "          validation_data=(X_val, y_val),\n",
    "          callbacks= [print_callback, early_stopping_callback])"
   ]
  },
  {
   "cell_type": "code",
   "execution_count": 9,
   "metadata": {
    "colab": {
     "base_uri": "https://localhost:8080/",
     "height": 324
    },
    "id": "fOV47lLVCHXw",
    "outputId": "14a7df54-9345-4f76-b0c0-eff41cfeb982"
   },
   "outputs": [
    {
     "data": {
      "image/png": "[encoded data removed]",
      "text/plain": [
       "<Figure size 576x360 with 1 Axes>"
      ]
     },
     "metadata": {
      "needs_background": "light",
      "tags": []
     },
     "output_type": "display_data"
    }
   ],
   "source": [
    "# Plotting accuracy, loss vs Epochs\n",
    "pd.DataFrame(history.history).plot(figsize=(8,5))\n",
    "plt.grid(True)\n",
    "plt.gca().set_ylim(0, 1) # set the vertical range to[0-1]\n",
    "plt.show()"
   ]
  },
  {
   "cell_type": "code",
   "execution_count": null,
   "metadata": {
    "id": "23c9Wq17GfAi"
   },
   "outputs": [],
   "source": [
    "layer_outputs = [layer.output for layer in model.layers]\n",
    "activation_model = tf.keras.models.Model(inputs = model.input, outputs = layer_outputs)"
   ]
  },
  {
   "cell_type": "markdown",
   "metadata": {
    "id": "mHZsXJBYLhA7"
   },
   "source": [
    "### Visualizing the Convolutions"
   ]
  },
  {
   "cell_type": "code",
   "execution_count": 20,
   "metadata": {
    "colab": {
     "base_uri": "https://localhost:8080/",
     "height": 268
    },
    "id": "UPUpkAgIIQmF",
    "outputId": "1ba411db-3553-4140-ae18-0dad70f2ed77"
   },
   "outputs": [
    {
     "data": {
      "image/png": "[encoded data removed]",
      "text/plain": [
       "<Figure size 432x288 with 9 Axes>"
      ]
     },
     "metadata": {
      "needs_background": "light",
      "tags": []
     },
     "output_type": "display_data"
    }
   ],
   "source": [
    "f, axarr = plt.subplots(3,3)\n",
    "FIRST_IMAGE=0\n",
    "SECOND_IMAGE=7\n",
    "THIRD_IMAGE=26\n",
    "CONVOLUTION_NUMBER = 8\n",
    "\n",
    "for x in range(0,3):\n",
    "\n",
    "    f1 = activation_model.predict(X_test[FIRST_IMAGE].reshape(1, 28, 28, 1))[x]\n",
    "    axarr[0,x].imshow(f1[0, : , :, CONVOLUTION_NUMBER])\n",
    "    axarr[0,x].grid(False)\n",
    "    f2 = activation_model.predict(X_test[SECOND_IMAGE].reshape(1, 28, 28, 1))[x]\n",
    "    axarr[1,x].imshow(f2[0, : , :, CONVOLUTION_NUMBER])\n",
    "    axarr[1,x].grid(False)\n",
    "    f3 = activation_model.predict(X_test[THIRD_IMAGE].reshape(1, 28, 28, 1))[x]\n",
    "    axarr[2,x].imshow(f3[0, : , :, CONVOLUTION_NUMBER])\n",
    "    axarr[2,x].grid(False)"
   ]
  },
  {
   "cell_type": "code",
   "execution_count": 17,
   "metadata": {
    "colab": {
     "base_uri": "https://localhost:8080/",
     "height": 149
    },
    "id": "D8Vfw3x0KFGD",
    "outputId": "e3626114-5456-439c-abf3-04049ee10be2"
   },
   "outputs": [
    {
     "data": {
      "image/png": "[encoded data removed]",
      "text/plain": [
       "<Figure size 432x288 with 3 Axes>"
      ]
     },
     "metadata": {
      "needs_background": "light",
      "tags": []
     },
     "output_type": "display_data"
    }
   ],
   "source": [
    "# Original images\n",
    "f, axarr = plt.subplots(1,3)\n",
    "axarr[0].imshow((X_test*255.0)[FIRST_IMAGE, :, :, 0])\n",
    "axarr[0].grid(False)\n",
    "axarr[1].imshow((X_test*255.0)[SECOND_IMAGE, :, :, 0])\n",
    "axarr[1].grid(False)\n",
    "axarr[2].imshow((X_test*255.0)[THIRD_IMAGE, :, :, 0])\n",
    "axarr[2].grid(False)"
   ]
  },
  {
   "cell_type": "markdown",
   "metadata": {
    "id": "q6ukmgeNLqz0"
   },
   "source": [
    "### Visualizing the learned filters"
   ]
  },
  {
   "cell_type": "code",
   "execution_count": 38,
   "metadata": {
    "colab": {
     "base_uri": "https://localhost:8080/",
     "height": 483
    },
    "id": "7STCQJa0ESBf",
    "outputId": "c4cf1a35-9114-40db-c23c-bdc1f5bf50b0"
   },
   "outputs": [
    {
     "data": {
      "image/png": "[encoded data removed]",
      "text/plain": [
       "<Figure size 576x576 with 64 Axes>"
      ]
     },
     "metadata": {
      "needs_background": "light",
      "tags": []
     },
     "output_type": "display_data"
    }
   ],
   "source": [
    "f, axarr = plt.subplots(8,8, figsize=(8, 8))\n",
    "\n",
    "first_filter = model.get_weights()[0]\n",
    "\n",
    "for i in range(first_filter.shape[-1]):\n",
    "    axarr[i//8, i%8].imshow(first_filter[:, :, 0, i]*255.0)\n",
    "    axarr[i//8, i%8].grid(False)"
   ]
  },
  {
   "cell_type": "code",
   "execution_count": 35,
   "metadata": {
    "id": "RlErHRW6HCQN"
   },
   "outputs": [],
   "source": [
    "# Saving the model\n",
    "model.save(\"Fashion_MNIST.h5\")"
   ]
  },
  {
   "cell_type": "code",
   "execution_count": 37,
   "metadata": {
    "id": "aAiOKzheID7V"
   },
   "outputs": [],
   "source": [
    "model = tf.keras.models.load_model(\"Fashion_MNIST.h5\")"
   ]
  },
  {
   "cell_type": "markdown",
   "metadata": {
    "id": "JEgZrPsAv2DJ"
   },
   "source": [
    "### Part2: Vanishing and Exploding Gradients"
   ]
  },
  {
   "cell_type": "code",
   "execution_count": 39,
   "metadata": {
    "id": "vqE7cMApKytg"
   },
   "outputs": [],
   "source": [
    "model = tf.keras.models.Sequential([\n",
    "            tf.keras.layers.Conv2D(64, kernel_size=(3,3), activation='sigmoid', input_shape=(28, 28, 1), kernel_initializer='random_normal', padding='same'),\n",
    "            tf.keras.layers.MaxPool2D(2, 1),\n",
    "            tf.keras.layers.Conv2D(64, kernel_size=(3,3), activation='sigmoid', kernel_initializer='random_normal', padding='same'),\n",
    "            tf.keras.layers.MaxPool2D(2, 1),\n",
    "            tf.keras.layers.Conv2D(128, kernel_size=(3,3), activation='sigmoid', kernel_initializer='random_normal'),\n",
    "            tf.keras.layers.MaxPool2D(2, 2),\n",
    "            tf.keras.layers.Conv2D(128, kernel_size=(3,3), activation='sigmoid', kernel_initializer='random_normal'),\n",
    "            tf.keras.layers.MaxPool2D(2, 2),\n",
    "            tf.keras.layers.Conv2D(128, kernel_size=(3,3), activation='sigmoid', kernel_initializer='random_normal'),\n",
    "            tf.keras.layers.MaxPool2D(2, 2),\n",
    "            tf.keras.layers.Flatten(),\n",
    "            tf.keras.layers.Dense(128, activation='relu', kernel_initializer='random_normal'),\n",
    "            tf.keras.layers.Dense(10, activation='softmax', kernel_initializer='random_normal')\n",
    "])"
   ]
  },
  {
   "cell_type": "code",
   "execution_count": 40,
   "metadata": {
    "colab": {
     "base_uri": "https://localhost:8080/"
    },
    "id": "h4SCVBBU321C",
    "outputId": "93497b83-9d53-4e0a-9c6c-67dd052b088c"
   },
   "outputs": [
    {
     "name": "stdout",
     "output_type": "stream",
     "text": [
      "Model: \"sequential_1\"\n",
      "_________________________________________________________________\n",
      "Layer (type)                 Output Shape              Param #   \n",
      "=================================================================\n",
      "conv2d_3 (Conv2D)            (None, 28, 28, 64)        640       \n",
      "_________________________________________________________________\n",
      "max_pooling2d_3 (MaxPooling2 (None, 27, 27, 64)        0         \n",
      "_________________________________________________________________\n",
      "conv2d_4 (Conv2D)            (None, 27, 27, 64)        36928     \n",
      "_________________________________________________________________\n",
      "max_pooling2d_4 (MaxPooling2 (None, 26, 26, 64)        0         \n",
      "_________________________________________________________________\n",
      "conv2d_5 (Conv2D)            (None, 24, 24, 128)       73856     \n",
      "_________________________________________________________________\n",
      "max_pooling2d_5 (MaxPooling2 (None, 12, 12, 128)       0         \n",
      "_________________________________________________________________\n",
      "conv2d_6 (Conv2D)            (None, 10, 10, 128)       147584    \n",
      "_________________________________________________________________\n",
      "max_pooling2d_6 (MaxPooling2 (None, 5, 5, 128)         0         \n",
      "_________________________________________________________________\n",
      "conv2d_7 (Conv2D)            (None, 3, 3, 128)         147584    \n",
      "_________________________________________________________________\n",
      "max_pooling2d_7 (MaxPooling2 (None, 1, 1, 128)         0         \n",
      "_________________________________________________________________\n",
      "flatten_1 (Flatten)          (None, 128)               0         \n",
      "_________________________________________________________________\n",
      "dense_2 (Dense)              (None, 128)               16512     \n",
      "_________________________________________________________________\n",
      "dense_3 (Dense)              (None, 10)                1290      \n",
      "=================================================================\n",
      "Total params: 424,394\n",
      "Trainable params: 424,394\n",
      "Non-trainable params: 0\n",
      "_________________________________________________________________\n"
     ]
    }
   ],
   "source": [
    "model.summary()"
   ]
  },
  {
   "cell_type": "code",
   "execution_count": 41,
   "metadata": {
    "colab": {
     "base_uri": "https://localhost:8080/"
    },
    "id": "zlX3Fnu0wYBX",
    "outputId": "635cc87c-8670-45bb-f81f-c48d10b4a623"
   },
   "outputs": [
    {
     "name": "stdout",
     "output_type": "stream",
     "text": [
      "Step: 0 Loss: 2.3113632202148438\n",
      "Step: 100 Loss: 2.299731492996216\n",
      "Step: 200 Loss: 2.2969775199890137\n",
      "Step: 300 Loss: 2.3152596950531006\n",
      "Step: 400 Loss: 2.293072462081909\n",
      "Step: 500 Loss: 2.317242383956909\n",
      "Step: 600 Loss: 2.304840087890625\n",
      "Step: 700 Loss: 2.296999454498291\n",
      "Step: 800 Loss: 2.305791139602661\n"
     ]
    }
   ],
   "source": [
    "# Prepare a dataset.\n",
    "dataset = tf.data.Dataset.from_tensor_slices(\n",
    "              (X_train.astype(\"float32\"), y_train)\n",
    ")\n",
    "dataset = dataset.shuffle(buffer_size=1024).batch(64)\n",
    "\n",
    "# Instantiate a logistic loss function that expects integer targets.\n",
    "loss_fn = tf.keras.losses.SparseCategoricalCrossentropy(from_logits=True)\n",
    "\n",
    "# Instantiate an optimizer.\n",
    "optimizer = tf.keras.optimizers.SGD(learning_rate=1e-3)\n",
    "\n",
    "# Iterate over the batches of the dataset.\n",
    "for step, (x, y) in enumerate(dataset):\n",
    "\n",
    "    # Open a GradientTape.\n",
    "    with tf.GradientTape() as tape:\n",
    "\n",
    "        # Forward pass.\n",
    "        logits = model(x)\n",
    "\n",
    "        # Loss value for this batch.\n",
    "        loss = loss_fn(y, logits)\n",
    "\n",
    "    # Get gradients of weights wrt the loss.\n",
    "    gradients = tape.gradient(loss, model.trainable_weights)\n",
    "\n",
    "    # Update the weights of our linear layer.\n",
    "    optimizer.apply_gradients(zip(gradients, model.trainable_weights))\n",
    "\n",
    "    # Logging.\n",
    "    if step % 100 == 0:\n",
    "        print(\"Step:\", step, \"Loss:\", float(loss))"
   ]
  },
  {
   "cell_type": "code",
   "execution_count": 45,
   "metadata": {
    "colab": {
     "base_uri": "https://localhost:8080/"
    },
    "id": "_eO-SVQN2eHx",
    "outputId": "cd2298ea-8f25-43a4-e189-2dc533ff76c9"
   },
   "outputs": [
    {
     "name": "stdout",
     "output_type": "stream",
     "text": [
      "0 Layer gradients: Max value of gradient: 2.7520047e-05 Min value of gradient: -1.6482101e-05\n",
      "2 Layer gradients: Max value of gradient: 5.2769068e-05 Min value of gradient: -6.700276e-05\n",
      "4 Layer gradients: Max value of gradient: 0.00018626984 Min value of gradient: -0.00025777498\n",
      "6 Layer gradients: Max value of gradient: 0.00070067745 Min value of gradient: -0.0009893297\n",
      "8 Layer gradients: Max value of gradient: 0.0024703122 Min value of gradient: -0.0017338924\n",
      "10 Layer gradients: Max value of gradient: 0.020174408 Min value of gradient: -0.024770746\n",
      "12 Layer gradients: Max value of gradient: 0.073452085 Min value of gradient: -0.10714928\n"
     ]
    }
   ],
   "source": [
    "for i in range(0, len(gradients), 2):\n",
    "    print(str(i) + \" Layer gradients: Max value of gradient: \" + \n",
    "          str(np.amax(gradients[i].numpy())) + \" Min value of gradient: \" +\n",
    "          str(np.amin(gradients[i].numpy())))"
   ]
  },
  {
   "cell_type": "markdown",
   "metadata": {
    "id": "-6W2z9xdZ-hG"
   },
   "source": [
    "## Observations and Conclusions\n",
    "* We observe that the initial layers of the CNN learn basic features such as horizontal edges, vertical edges, edges at 45 degress etc.\n",
    "* The later layers of the CNN learn advanced features such as background removal etc.\n",
    "* With the activation function as sigmoid and weight being initialised randomly using normal distribution, we observe that as we increase the number of layers in the network, the network suffers from the problem of vanishing gradients.\n",
    "* The problem of vanishing gradients can be solved using ReLU activation function and initialsing weight using uniform distribution as described in Glorot et. al., 2010.\n",
    "\n",
    "## References\n",
    "1. Deep Learning by Ian Goodfellow, Yoshua Bengio and Aaron Courville, 2016\n",
    "2. Hands-on Machine Learning with Scikit-Learn, Keras and TensorFlow by Aurelien Geron, 2019\n",
    "3. http://alexlenail.me/NN-SVG/LeNet.html for plotting the CNN architecture."
   ]
  }
 ],
 "metadata": {
  "accelerator": "GPU",
  "colab": {
   "collapsed_sections": [],
   "name": "Untitled7.ipynb",
   "provenance": []
  },
  "kernelspec": {
   "display_name": "Python 3",
   "language": "python",
   "name": "python3"
  },
  "language_info": {
   "codemirror_mode": {
    "name": "ipython",
    "version": 3
   },
   "file_extension": ".py",
   "mimetype": "text/x-python",
   "name": "python",
   "nbconvert_exporter": "python",
   "pygments_lexer": "ipython3",
   "version": "3.6.8"
  }
 },
 "nbformat": 4,
 "nbformat_minor": 1
}
