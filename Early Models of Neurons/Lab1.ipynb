{
 "cells": [
  {
   "cell_type": "markdown",
   "metadata": {},
   "source": [
    "# Lab1\n",
    "* **Name**: Utkarsh Prakash\n",
    "* **Roll Number**: 180030042 <br />\n",
    "\n",
    "## Experiment 1"
   ]
  },
  {
   "cell_type": "markdown",
   "metadata": {},
   "source": [
    "**Title**: Demonstrate the working of different models of neurons by implementing NAND gate, NOR gate and XOR gate.\n",
    "\n",
    "**Objective**: To observe and understand the working of McCulloch-Pitts and Rosenblatt’s Perceptron model of neuron."
   ]
  },
  {
   "cell_type": "markdown",
   "metadata": {},
   "source": [
    "### Part-1: McCulloch-Pitts Model\n",
    "#### Hypothesis: \n",
    "The McCulloch-Pitts model should be able to implement the NAND gate, NOR gate and XOR gate. <br />\n",
    "\n",
    "**Experimental Description:** <br />\n",
    "1.   Data generation: Since the McCulloch-Pitts Model does require training (fixed weights) we will not generate data for training. However, for testing we will use two inputs to the gate and consider all the possible combinations of the input. <br />\n",
    "2.  Objective: We should be able to realize the following truth tables:<br />\n",
    "**NOR Gate**"
   ]
  },
  {
   "cell_type": "markdown",
   "metadata": {},
   "source": [
    "| $a_1$ | $a_2$ | $s$ |\n",
    "| --- | --- | --- |\n",
    "| 0 | 0 | 1 |\n",
    "| 0 | 1 | 0 |\n",
    "| 1 | 0 | 0 |\n",
    "| 1 | 1 | 0 |"
   ]
  },
  {
   "cell_type": "markdown",
   "metadata": {},
   "source": [
    "   **NAND Gate**"
   ]
  },
  {
   "cell_type": "markdown",
   "metadata": {},
   "source": [
    "| $a_1$ | $a_2$ | $s$ |\n",
    "| --- | --- | --- |\n",
    "| 0 | 0 | 1 |\n",
    "| 0 | 1 | 1 |\n",
    "| 1 | 0 | 1 |\n",
    "| 1 | 1 | 0 |"
   ]
  },
  {
   "cell_type": "markdown",
   "metadata": {},
   "source": [
    "**XOR Gate**"
   ]
  },
  {
   "cell_type": "markdown",
   "metadata": {},
   "source": [
    "| $a_1$ | $a_2$ | $s$ |\n",
    "| --- | --- | --- |\n",
    "| 0 | 0 | 0 |\n",
    "| 0 | 1 | 1 |\n",
    "| 1 | 0 | 1 |\n",
    "| 1 | 1 | 0 |"
   ]
  },
  {
   "cell_type": "markdown",
   "metadata": {},
   "source": [
    "3. Operations:\n",
    "   The activation value$(x)$ is the weighted sum of M inputs $(a_i)$ and a bias term$(\\theta)$. Output funtion $f(x)$ is a non-linear function of the activation value. <br />\n",
    "   Activation:   $x = \\sum_{i=1}^{M}w_{i}a_{i}- \\theta$ <br />\n",
    "   Output signal:  $s = f(x)$ <br />\n",
    "    We are going to use the binary function for output function which is defined as follows: <br />\n",
    "    <center>$f(x) = 1, x > 0$ <br />\n",
    "    $f(x) = 0, x <=0$</center>\n",
    "4. Determine weights such that logic gates are realized using a binary output function\n",
    "5. Testing: For testing we will use two inputs to the gate and consider all the possible combinations of the input."
   ]
  },
  {
   "cell_type": "markdown",
   "metadata": {},
   "source": [
    "![McCulloch-Pitts Model](tmp/IMG_4651.jpg)\n",
    "<center>Source: Artificial Neural Networks by B. Yegnanarayana, PHI, 1999</center>"
   ]
  },
  {
   "cell_type": "markdown",
   "metadata": {},
   "source": [
    "#### Implementation"
   ]
  },
  {
   "cell_type": "code",
   "execution_count": 1,
   "metadata": {},
   "outputs": [],
   "source": [
    "import numpy as np\n",
    "import pandas as pd\n",
    "import matplotlib.pyplot as plt"
   ]
  },
  {
   "cell_type": "markdown",
   "metadata": {},
   "source": [
    "##### Weights"
   ]
  },
  {
   "cell_type": "code",
   "execution_count": 2,
   "metadata": {},
   "outputs": [],
   "source": [
    "nor_weights = np.array([1, -1, -1])    # Weights for NOR Gate\n",
    "nand_weights = np.array([2, -1, -1])   # Weights for NAND Gate\n",
    "xor_weights = np.array([-1, 2, 2, -3]) # Weights for XOR Gate, Additional parameter for XOR"
   ]
  },
  {
   "cell_type": "markdown",
   "metadata": {},
   "source": [
    "##### Model"
   ]
  },
  {
   "cell_type": "code",
   "execution_count": 8,
   "metadata": {},
   "outputs": [],
   "source": [
    "def McCulloch_Pitts(X, model):\n",
    "    '''\n",
    "        Function which implements the McCulloh-Pitts Model for a\n",
    "        neuron.\n",
    "    '''\n",
    "    \n",
    "    X = np.c_[np.ones((X.shape[0], 1)), X] # Appending 1 for the bias term\n",
    "    \n",
    "    if model == \"NOR\":\n",
    "        activation = np.dot(X, nor_weights)        # Activation value\n",
    "        return (activation > 0).astype(np.int32)   # Output value\n",
    "    if model == \"NAND\":\n",
    "        activation = np.dot(X, nand_weights)        # Activation value\n",
    "        return (activation > 0).astype(np.int32)   # Output value\n",
    "    if model == \"XOR\":\n",
    "        X = np.c_[X, X[:, -1]*X[:, -2]]            # New parameter calculation for XOR gate\n",
    "        activation = np.dot(X, xor_weights)        # Activation value\n",
    "        return (activation > 0).astype(np.int32)   # Output value\n",
    "    \n",
    "    return \"Implemented models are NOR, NAND and XOR!\""
   ]
  },
  {
   "cell_type": "markdown",
   "metadata": {},
   "source": [
    "##### Testing"
   ]
  },
  {
   "cell_type": "code",
   "execution_count": 6,
   "metadata": {},
   "outputs": [],
   "source": [
    "def print_result(X_test, result):\n",
    "    print(pd.DataFrame({\"a1\": X_test[:, 0], \"a2\": X_test[:, 1], \"s\": result}).head())"
   ]
  },
  {
   "cell_type": "code",
   "execution_count": 10,
   "metadata": {
    "scrolled": false
   },
   "outputs": [
    {
     "name": "stdout",
     "output_type": "stream",
     "text": [
      "NOR Result\n",
      "----------\n",
      "   a1  a2  s\n",
      "0   1   0  0\n",
      "1   0   0  1\n",
      "2   0   1  0\n",
      "3   1   1  0\n",
      "NAND Result\n",
      "----------\n",
      "   a1  a2  s\n",
      "0   1   0  1\n",
      "1   0   0  1\n",
      "2   0   1  1\n",
      "3   1   1  0\n",
      "XOR Result\n",
      "----------\n",
      "   a1  a2  s\n",
      "0   1   0  1\n",
      "1   0   0  0\n",
      "2   0   1  1\n",
      "3   1   1  0\n"
     ]
    }
   ],
   "source": [
    "X_test = np.array([[1, 0],          # Test vector\n",
    "                   [0, 0],\n",
    "                   [0, 1],\n",
    "                   [1, 1]])\n",
    "print(\"NOR Result\")\n",
    "print(\"----------\")\n",
    "print_result(X_test, McCulloch_Pitts(X_test, \"NOR\"))    # Testing for NOR gate\n",
    "print(\"NAND Result\")\n",
    "print(\"----------\")\n",
    "print_result(X_test, McCulloch_Pitts(X_test, \"NAND\"))   # Testing for NAND gate\n",
    "print(\"XOR Result\")\n",
    "print(\"----------\")\n",
    "print_result(X_test, McCulloch_Pitts(X_test, \"XOR\"))    # Testing for XOR gate"
   ]
  },
  {
   "cell_type": "markdown",
   "metadata": {},
   "source": [
    "##### Observations and Conclusions\n",
    "* Networks consisting of MP neurons with binary (ON-OFF) output signals can be configured to perform several logical functions such as NOR, NAND and XOR logical function.\n",
    "* Multi-Layer perceptron is needed to implement XOR.\n",
    "* Since we are able to build basic logical functions using MP neuron, we can combine them to build other sequential digital circuits."
   ]
  },
  {
   "cell_type": "markdown",
   "metadata": {},
   "source": [
    "### Part-2: Rosenblatt's Model\n",
    "#### Hypothesis: \n",
    "The Rosenblatt’s Perceptron model should be able to learn appropriate weights to implement the NAND gate, NOR gate and XOR gate. <br />\n",
    "**Experimental Description:** <br />\n",
    "1.   Data generation: For training purposes we will consider all the possible combinations of two inputs to the gate along with their desired output i.e. the truth table will be our training data. <br />\n",
    "2.  Objective: We should be able to realize the following truth tables:<br />\n",
    "**NOR Gate**"
   ]
  },
  {
   "cell_type": "markdown",
   "metadata": {},
   "source": [
    "| $a_1$ | $a_2$ | $s$ |\n",
    "| --- | --- | --- |\n",
    "| 0 | 0 | 1 |\n",
    "| 0 | 1 | 0 |\n",
    "| 1 | 0 | 0 |\n",
    "| 1 | 1 | 0 |"
   ]
  },
  {
   "cell_type": "markdown",
   "metadata": {},
   "source": [
    "**NAND Gate**"
   ]
  },
  {
   "cell_type": "markdown",
   "metadata": {},
   "source": [
    "| $a_1$ | $a_2$ | $s$ |\n",
    "| --- | --- | --- |\n",
    "| 0 | 0 | 1 |\n",
    "| 0 | 1 | 1 |\n",
    "| 1 | 0 | 1 |\n",
    "| 1 | 1 | 0 |"
   ]
  },
  {
   "cell_type": "markdown",
   "metadata": {},
   "source": [
    "**XOR Gate**"
   ]
  },
  {
   "cell_type": "markdown",
   "metadata": {},
   "source": [
    "| $a_1$ | $a_2$ | $s$ |\n",
    "| --- | --- | --- |\n",
    "| 0 | 0 | 0 |\n",
    "| 0 | 1 | 1 |\n",
    "| 1 | 0 | 1 |\n",
    "| 1 | 1 | 0 |"
   ]
  },
  {
   "cell_type": "markdown",
   "metadata": {},
   "source": [
    "3. Operations:\n",
    "   The activation value$(x)$ is the weighted sum of M inputs $(a_i)$ and a bias term$(\\theta)$. Output funtion $f(x)$ is a non-linear function of the activation value. <br />\n",
    "   Activation:   $x = \\sum_{i=1}^{M}w_{i}a_{i}- \\theta$ <br />\n",
    "   Output signal:  $s = f(x)$ <br />\n",
    "   Error:  $\\delta = y - s$ <br />\n",
    "   Weight update: $\\Delta = \\eta \\delta a_{i}$ <br />\n",
    "    We are going to use the binary function for output function which is defined as follows: <br />\n",
    "    <center>$f(x) = 1, x > 0$ <br />\n",
    "    $f(x) = 0, x <=0$</center>\n",
    "4. Training: Randomly initialize the weights. Iteratively update the weights of the neurons using the update equation defined above. During training plot the graph of accuracy vs number of iterations.\n",
    "5. Testing: Check whether the outputs from the model matches the desired outputs."
   ]
  },
  {
   "cell_type": "markdown",
   "metadata": {},
   "source": [
    "![Rosenblatt's Model](tmp/IMG_4652.jpg)\n",
    "<center>Source: Artificial Neural Networks by B. Yegnanarayana, PHI, 1999</center>"
   ]
  },
  {
   "cell_type": "markdown",
   "metadata": {},
   "source": [
    "##### Implementation\n",
    "##### Data"
   ]
  },
  {
   "cell_type": "code",
   "execution_count": 11,
   "metadata": {},
   "outputs": [],
   "source": [
    "X_train = np.array([[0, 0],          # Training data\n",
    "                   [0, 1],\n",
    "                   [1, 0],\n",
    "                   [1, 1]])\n",
    "y_train_nor = np.array([1, 0, 0, 0])    # Output for NOR\n",
    "y_train_nand = np.array([1, 1, 1, 0])   # Output for NAND\n",
    "y_train_xor = np.array([0, 1, 1, 0])    # Output for XOR"
   ]
  },
  {
   "cell_type": "markdown",
   "metadata": {},
   "source": [
    "##### Weights initialization"
   ]
  },
  {
   "cell_type": "code",
   "execution_count": 12,
   "metadata": {},
   "outputs": [],
   "source": [
    "def init_weights(shape):\n",
    "    '''\n",
    "        This function initializes the weights for the Rosenblatt's\n",
    "        model of a neuron. We use random initialization of weights.\n",
    "    '''\n",
    "    return np.random.rand(shape)"
   ]
  },
  {
   "cell_type": "markdown",
   "metadata": {},
   "source": [
    "##### Model"
   ]
  },
  {
   "cell_type": "code",
   "execution_count": 13,
   "metadata": {},
   "outputs": [],
   "source": [
    "def Rosenblatt_accuracy(X, y, w):\n",
    "    '''\n",
    "        This function is for measuring the accuracy of the\n",
    "        Rosenblatt's model of a neuron.\n",
    "    '''\n",
    "    \n",
    "    y_pred = (np.dot(X, w) > 0).astype(np.int32)      # Predicted output by the model\n",
    "    return (y_pred == y).sum(axis=0)/X.shape[0]       # Accuracy calculation"
   ]
  },
  {
   "cell_type": "code",
   "execution_count": 44,
   "metadata": {},
   "outputs": [],
   "source": [
    "def Rosenblatt(X_train, y_train, model, learning_rate=0.01, num_iterations=1000):\n",
    "    '''\n",
    "        This function trains the Rosenblatt's model of a neuron.\n",
    "    '''\n",
    "    \n",
    "    X = np.c_[-1*np.ones((X_train.shape[0], 1)), X_train] # Appending 1 for the bias term\n",
    "    \n",
    "    # Adding another layer for XOR\n",
    "    if model == \"XOR\":\n",
    "        X = np.c_[X, X[:, -1]*X[:, -2]]\n",
    "        \n",
    "    w = init_weights(X.shape[1])       # weight initialization\n",
    "    print(\"Initial weights for\", model, \":\", w)\n",
    "    accuracy = []\n",
    "    \n",
    "    for i in range(num_iterations):           # epochs\n",
    "        for j in range(X_train.shape[0]):     # iterating over training examples\n",
    "            activation = np.dot(X[j, :], w)   # Activation value\n",
    "            s = 1 if activation > 0 else 0    # Output value\n",
    "            delta = y_train[j] - s            # error\n",
    "            w = w + learning_rate*delta*X[j, :]   # Weight update\n",
    "        \n",
    "        accuracy.append(Rosenblatt_accuracy(X, y_train, w))   # accuarcy calculation\n",
    "        \n",
    "        if accuracy[i] == 1:\n",
    "            break\n",
    "    \n",
    "    print(\"Number of epochs until convergence: \", len(accuracy))\n",
    "    print()\n",
    "    \n",
    "    return accuracy, w"
   ]
  },
  {
   "cell_type": "markdown",
   "metadata": {},
   "source": [
    "##### Training"
   ]
  },
  {
   "cell_type": "code",
   "execution_count": 20,
   "metadata": {},
   "outputs": [],
   "source": [
    "def draw_graph(accuracy, model):\n",
    "    '''\n",
    "        This function is for plotting the graph of accuarcy\n",
    "        vs number of epochs.\n",
    "    '''\n",
    "    plt.figure()\n",
    "    plt.plot(accuracy)\n",
    "    plt.xlabel(\"Number of epochs\")\n",
    "    plt.ylabel(\"Accuracy\")\n",
    "    plt.title(\"Accuracy vs Num iteration for {} Model\".format(model))\n",
    "    plt.show()"
   ]
  },
  {
   "cell_type": "code",
   "execution_count": 51,
   "metadata": {
    "scrolled": false
   },
   "outputs": [
    {
     "name": "stdout",
     "output_type": "stream",
     "text": [
      "Initial weights for NOR : [0.81777452 0.57062656 0.70753322]\n",
      "Number of epochs until convergence:  153\n",
      "\n",
      "Initial weights for NAND : [0.7392213  0.37468588 0.0114094 ]\n",
      "Number of epochs until convergence:  64\n",
      "\n",
      "Initial weights for XOR : [0.84740871 0.69207842 0.49452873 0.31225543]\n",
      "Number of epochs until convergence:  77\n",
      "\n"
     ]
    }
   ],
   "source": [
    "accuracy_nor, w_nor = Rosenblatt(X_train, y_train_nor, \"NOR\", 0.01)     # testing NOR gate\n",
    "accuracy_nand, w_nand = Rosenblatt(X_train, y_train_nand, \"NAND\", 0.01) # testing NAND gate\n",
    "accuracy_xor, w_xor = Rosenblatt(X_train, y_train_xor, \"XOR\", 0.01)     # testing XOR gate"
   ]
  },
  {
   "cell_type": "code",
   "execution_count": 52,
   "metadata": {},
   "outputs": [
    {
     "data": {
      "image/png": "[encoded data removed]",
      "text/plain": [
       "<Figure size 432x288 with 1 Axes>"
      ]
     },
     "metadata": {
      "needs_background": "light"
     },
     "output_type": "display_data"
    },
    {
     "data": {
      "image/png": "[encoded data removed]",
      "text/plain": [
       "<Figure size 432x288 with 1 Axes>"
      ]
     },
     "metadata": {
      "needs_background": "light"
     },
     "output_type": "display_data"
    },
    {
     "data": {
      "image/png": "[encoded data removed]",
      "text/plain": [
       "<Figure size 432x288 with 1 Axes>"
      ]
     },
     "metadata": {
      "needs_background": "light"
     },
     "output_type": "display_data"
    }
   ],
   "source": [
    "draw_graph(accuracy_nor, \"NOR\")\n",
    "draw_graph(accuracy_nand, \"NAND\")\n",
    "draw_graph(accuracy_xor, \"XOR\")"
   ]
  },
  {
   "cell_type": "markdown",
   "metadata": {},
   "source": [
    "##### Testing"
   ]
  },
  {
   "cell_type": "code",
   "execution_count": 55,
   "metadata": {},
   "outputs": [],
   "source": [
    "def Rosenblatt_predict(X, w, model):\n",
    "    X = np.c_[np.ones((X.shape[0], 1)), X] # Appending 1 for the bias term\n",
    "    \n",
    "    if model == \"NOR\":\n",
    "        return (np.dot(X, w) > 0).astype(np.int32)    # Output value\n",
    "    if model == \"NAND\":\n",
    "        return (np.dot(X, w) > 0).astype(np.int32)    # Output value\n",
    "    if model == \"XOR\":\n",
    "        X = np.c_[X, X[:, -1]*X[:, -2]]\n",
    "        return (np.dot(X, w) > 0).astype(np.int32)    # Output value\n",
    "    \n",
    "    return \"Implemented models are NOR, NAND and XOR!\""
   ]
  },
  {
   "cell_type": "code",
   "execution_count": 65,
   "metadata": {},
   "outputs": [
    {
     "name": "stdout",
     "output_type": "stream",
     "text": [
      "NOR Result\n",
      "----------\n",
      "   a1  a2  s\n",
      "0   0   0  1\n",
      "1   0   1  0\n",
      "2   1   0  0\n",
      "3   1   1  0\n",
      "NAND Result\n",
      "----------\n",
      "   a1  a2  s\n",
      "0   0   0  1\n",
      "1   0   1  1\n",
      "2   1   0  1\n",
      "3   1   1  0\n",
      "XOR Result\n",
      "----------\n",
      "   a1  a2  s\n",
      "0   0   0  0\n",
      "1   0   1  1\n",
      "2   1   0  1\n",
      "3   1   1  0\n"
     ]
    }
   ],
   "source": [
    "print(\"NOR Result\")\n",
    "print(\"----------\")\n",
    "print_result(X_test, Rosenblatt_predict(X_train, w_nor, \"NOR\"))\n",
    "print(\"NAND Result\")\n",
    "print(\"----------\")\n",
    "print_result(X_test, Rosenblatt_predict(X_train, w_nand, \"NAND\"))\n",
    "print(\"XOR Result\")\n",
    "print(\"----------\")\n",
    "print_result(X_test, Rosenblatt_predict(X_train, w_xor, \"XOR\"))"
   ]
  },
  {
   "cell_type": "markdown",
   "metadata": {},
   "source": [
    "##### Observations\n",
    "##### Effect of intializing different weights \n",
    "**NOR Gate** <br />\n",
    "\n",
    "| w0 | w1 | w2 | Converging|\n",
    "| --- | --- | --- | --- |\n",
    "| 0.84 | 0.43 | 0.04 | Converged |\n",
    "| 0.72 | 0.27 | 0.76 | Converged |\n",
    "| 0.34 | 0.13 | 0.54 | Converged |\n",
    "| 0.70 | 0.77 | 0.87 | Converged |\n",
    "\n",
    "\n",
    "**NAND Gate** <br />\n",
    "\n",
    "| w0 | w1 | w2 | Converging|\n",
    "| --- | --- | --- | --- |\n",
    "| 0.45 | 0.94 | 0.46 | Converged |\n",
    "| 0.96 | 0.03 | 0.48 | Converged |\n",
    "| 0.49 | 0.32 | 0.01 | Converged |\n",
    "| 0.71 | 0.26 | 0.26 | Converged |\n",
    "\n",
    "**XOR Gate** <br />\n",
    "\n",
    "| w0 | w1 | w2 | w3 | Converging|\n",
    "| --- | --- | --- | --- | --- |\n",
    "| 0.75 | 0.51 | 0.70 | 0.20 | Converged |\n",
    "| 0.72 | 0.97 | 0.56 | 0.27 | Converged |\n",
    "| 0.86 | 0.85 | 0.29 | 0.51 | Converged |\n",
    "| 0.15 | 0.42 | 0.41 | 0.63 | Converged |\n",
    "\n",
    "##### Effect of using different learning rates\n",
    "**NOR Gate** <br />\n",
    "\n",
    "| Learning rate $(\\eta)$ | Number of epochs until convergence |\n",
    "| --- | --- | \n",
    "| 0.001 | 1000 |\n",
    "| 0.01 | 153 | \n",
    "| 0.1 | 12 | \n",
    "\n",
    "\n",
    "**NAND Gate** <br />\n",
    "\n",
    "| Learning rate $(\\eta)$ | Number of epochs until convergence |\n",
    "| --- | --- | \n",
    "| 0.001 | 749 |\n",
    "| 0.01 | 64 | \n",
    "| 0.1 | 13 | \n",
    "\n",
    "**XOR Gate** <br />\n",
    "\n",
    "| Learning rate $(\\eta)$ | Number of epochs until convergence |\n",
    "| --- | --- | \n",
    "| 0.001 | 929 |\n",
    "| 0.01 | 77 | \n",
    "| 0.1 | 13 | "
   ]
  },
  {
   "cell_type": "markdown",
   "metadata": {},
   "source": [
    "##### Conclusion\n",
    "\n",
    "* Networks consisting of Rosenblatt neurons with binary (ON-OFF) output signals can be configured to perform several logical functions such as NOR, NAND and XOR logical function.\n",
    "* Multi-layer perceptron are required to implement XOR since a single Rosenblatt's neuron can only implement linearly separable class.\n",
    "* The initialisation of weight doesn't seem to have any effect on the convergence.\n",
    "* The increase in the learning rate leads to faster convergence i.e. lesser number of steps are required for convergence, given that the learning rate is not too high.\n",
    "* The model is able to reach an accuracy of 1."
   ]
  },
  {
   "cell_type": "markdown",
   "metadata": {},
   "source": [
    "## Experiment 2"
   ]
  },
  {
   "cell_type": "markdown",
   "metadata": {},
   "source": [
    "**Title**: Demonstrate the working of Widrow's Adaline Model.\n",
    "\n",
    "**Objective**: To observe and understand the working of Widrow's Adaline Model.\n",
    "\n",
    "**Hypothesis**: Widrow's Adaline Model will be able learn appropriate parameters/weights to represent the equation $y = 1 + 2x_1 + 2x_2$."
   ]
  },
  {
   "cell_type": "markdown",
   "metadata": {},
   "source": [
    "### Widrow's Adaline Model\n",
    "#### Experimental Description:\n",
    "1. Data generation: We will use synthetic data to train the model. First we will generate 100 samples of $x_1$ and $x_2$ from a uniform distribution between -50 to 50. Then we will calculate the value of $y$ for each of the input to prepare the train data. Similarly we can obtain the test data. <br /> \n",
    "2. Objective: We should be able to realize the following equation:<br />\n",
    "<center>$y = 1 + 2x_1 + 2x_2$</center>\n",
    "3. Operations:\n",
    "   The activation value$(x)$ is the weighted sum of M inputs $(a_i)$ and a bias term$(\\theta)$. Output funtion $f(x)$ is a linear function of the activation value. <br />\n",
    "   Activation:   $x = \\sum_{i=1}^{M}w_{i}a_{i}- \\theta$ <br />\n",
    "   Output signal:  $s = f(x)$ <br />\n",
    "   Error:  $\\delta = y - s$ <br />\n",
    "   Weight update: $\\Delta = \\eta \\delta a_{i}$ <br />\n",
    "   Here the output function used is the identity function i.e. <br />\n",
    "   <center>$f(x) = x$</center>\n",
    "4. Training: Randomly initialize the weights. Iteratively update the weights of the neurons using the update equation defined above. During training plot the graph of error vs number of iterations so as to ensure that error is decreasing. <br />\n",
    "5. Testing: Check whether the outputs from the model matches the desired outputs. We will use mean-squared error to evaluate the performance of our model which is defined as follows:<br />\n",
    "<center>$Mean-Squared error = \\sum_{j=1}^{N}\\sum_{i=1}^{M}(y_{actual}^{(j)} - w_{i}a_{i} + \\theta)^2$</center> <br />\n",
    "where $N$ is the number of testing examples and $M$ is the number of inputs to the model"
   ]
  },
  {
   "cell_type": "markdown",
   "metadata": {},
   "source": [
    "![Widrow's Adaline Model](tmp/IMG_4653.jpg)\n",
    "<center>Source: Artificial Neural Networks by B. Yegnanarayana, PHI, 1999</center>"
   ]
  },
  {
   "cell_type": "markdown",
   "metadata": {},
   "source": [
    "##### Implementation"
   ]
  },
  {
   "cell_type": "code",
   "execution_count": 54,
   "metadata": {},
   "outputs": [],
   "source": [
    "from mpl_toolkits.mplot3d import Axes3D"
   ]
  },
  {
   "cell_type": "markdown",
   "metadata": {},
   "source": [
    "##### Data"
   ]
  },
  {
   "cell_type": "code",
   "execution_count": 59,
   "metadata": {
    "scrolled": true
   },
   "outputs": [
    {
     "name": "stdout",
     "output_type": "stream",
     "text": [
      "(10, 10)\n"
     ]
    },
    {
     "data": {
      "image/png": "[encoded data removed]",
      "text/plain": [
       "<Figure size 432x288 with 1 Axes>"
      ]
     },
     "metadata": {
      "needs_background": "light"
     },
     "output_type": "display_data"
    }
   ],
   "source": [
    "# Actual weights\n",
    "w0 = 1\n",
    "w1 = 2\n",
    "w2 = 2\n",
    "\n",
    "# Generating x1 and x2 for training \n",
    "x = np.random.uniform(low = -50, high=50, size=(10, 1))\n",
    "y = np.random.uniform(low = -50, high=50, size=(10, 1))\n",
    "\n",
    "# Calculating the value of y for training\n",
    "X,Y = np.meshgrid(x,y)\n",
    "Z= w2*X + w1*Y + w0\n",
    "print(Z.shape)\n",
    "\n",
    "# Plotting the training example\n",
    "fig = plt.figure()\n",
    "ax = fig.gca(projection='3d')\n",
    "surf = ax.plot_surface(X, Y, Z)\n",
    "plt.xlabel('x1')\n",
    "plt.ylabel('x2')\n",
    "plt.show()"
   ]
  },
  {
   "cell_type": "code",
   "execution_count": 60,
   "metadata": {},
   "outputs": [
    {
     "name": "stdout",
     "output_type": "stream",
     "text": [
      "(100, 3) (100, 1)\n"
     ]
    }
   ],
   "source": [
    "X_flatten = X.ravel()       # Flattening the X vector\n",
    "Y_flatten = Y.ravel()       # Flattening the Y vector\n",
    "\n",
    "X = np.c_[-1*np.ones((100, 1)), X_flatten, Y_flatten] # Augmenting the matrix X\n",
    "y = Z.ravel()\n",
    "y = np.expand_dims(y, axis=-1)\n",
    "\n",
    "print(X.shape, y.shape)"
   ]
  },
  {
   "cell_type": "markdown",
   "metadata": {},
   "source": [
    "##### Weights"
   ]
  },
  {
   "cell_type": "code",
   "execution_count": 55,
   "metadata": {},
   "outputs": [],
   "source": [
    "def init_weights(shape):\n",
    "    '''\n",
    "        This function is for initialising the weights for\n",
    "        Widrow's Adaline model.\n",
    "    '''\n",
    "    return np.random.rand(shape)"
   ]
  },
  {
   "cell_type": "markdown",
   "metadata": {},
   "source": [
    "##### Model"
   ]
  },
  {
   "cell_type": "code",
   "execution_count": 56,
   "metadata": {},
   "outputs": [],
   "source": [
    "def MeanSquaredError(X, y, w):\n",
    "    '''\n",
    "        This function calculates the Mean Squared Error for\n",
    "        the Widrow's Adaline model.\n",
    "    '''\n",
    "    return np.sum((np.dot(X, w)-y)**2)/X.shape[0]"
   ]
  },
  {
   "cell_type": "code",
   "execution_count": 71,
   "metadata": {},
   "outputs": [],
   "source": [
    "def WidrowAdaline(X_train, y_train, learning_rate=0.01, num_iterations=1000):\n",
    "    '''\n",
    "        This function implements the Widrow's Adaline model.\n",
    "    '''\n",
    "    error = []\n",
    "    \n",
    "    w = init_weights(X.shape[1])              # Initialisation of weights\n",
    "    print(\"Initial weights:\", w)\n",
    "\n",
    "    w = np.expand_dims(w, axis = -1)          # Adding another dimension to the weight matrix\n",
    "    \n",
    "    for i in range(num_iterations):           # epochs\n",
    "        activation = np.dot(X_train, w)       # Activation/output value\n",
    "        delta = y_train - activation          # error \n",
    "        w = w + (learning_rate*np.dot(X_train.T, delta))/X_train.shape[0]  # Weight update\n",
    "        \n",
    "        error.append(MeanSquaredError(X_train, y_train, w))     # Calculation of Mean Squared Error\n",
    "        \n",
    "        if (error[i] < 10e-10):\n",
    "            break\n",
    "            \n",
    "    print(\"Number of epochs: \", len(error))\n",
    "        \n",
    "    return error, w"
   ]
  },
  {
   "cell_type": "markdown",
   "metadata": {},
   "source": [
    "##### Training"
   ]
  },
  {
   "cell_type": "code",
   "execution_count": 83,
   "metadata": {
    "scrolled": true
   },
   "outputs": [
    {
     "name": "stdout",
     "output_type": "stream",
     "text": [
      "Initial weights: [0.25454523 0.77750196 0.47583459]\n",
      "Number of epochs:  10000\n"
     ]
    }
   ],
   "source": [
    "error, w = WidrowAdaline(X, y, 0.001, 10000)"
   ]
  },
  {
   "cell_type": "code",
   "execution_count": 80,
   "metadata": {
    "scrolled": true
   },
   "outputs": [
    {
     "data": {
      "image/png": "[encoded data removed]",
      "text/plain": [
       "<Figure size 432x288 with 1 Axes>"
      ]
     },
     "metadata": {
      "needs_background": "light"
     },
     "output_type": "display_data"
    }
   ],
   "source": [
    "plt.figure()\n",
    "plt.plot(error)\n",
    "plt.xlabel(\"Number of iterations\")\n",
    "plt.ylabel(\"Mean Squared Error\")\n",
    "plt.title(\"Mean Squared Error vs Num iterations\")\n",
    "plt.show()"
   ]
  },
  {
   "cell_type": "code",
   "execution_count": 73,
   "metadata": {},
   "outputs": [
    {
     "data": {
      "text/plain": [
       "array([[-0.99789487],\n",
       "       [ 1.99997969],\n",
       "       [ 2.00004813]])"
      ]
     },
     "execution_count": 73,
     "metadata": {},
     "output_type": "execute_result"
    }
   ],
   "source": [
    "w"
   ]
  },
  {
   "cell_type": "markdown",
   "metadata": {},
   "source": [
    "##### Testing"
   ]
  },
  {
   "cell_type": "code",
   "execution_count": 81,
   "metadata": {},
   "outputs": [],
   "source": [
    "def WidrowAdalinePredict(X, w):\n",
    "    '''\n",
    "        This function is predicting the outcome of Widrow's \n",
    "        Adaline Model.\n",
    "    '''\n",
    "    return np.dot(X, w)"
   ]
  },
  {
   "cell_type": "code",
   "execution_count": 84,
   "metadata": {},
   "outputs": [
    {
     "name": "stdout",
     "output_type": "stream",
     "text": [
      "Mean Squared Error for testing Data is: 3.9927388532522783\n"
     ]
    }
   ],
   "source": [
    "X_test = np.random.uniform(low = -100, high=100, size=(10, 2))  # Generating test data\n",
    "X_test = np.c_[-1*np.ones((X_test.shape[0], 1)), X_test]     # Augment X matrix\n",
    "y_test = np.dot(X_test, (np.array([[1, 2, 2]])).T)           # Generating testing y\n",
    "\n",
    "y_pred = WidrowAdalinePredict(X_test, w)           # Predicting the outcome\n",
    "\n",
    "print(\"Mean Squared Error for testing Data is: {}\".format(MeanSquaredError(X_test, y_test, w)))  # Mean Squared Error"
   ]
  },
  {
   "cell_type": "markdown",
   "metadata": {},
   "source": [
    "##### Observations \n",
    "##### Effect of changing weights\n",
    "| w0 | w1 | w2 | Converging|\n",
    "| --- | --- | --- | --- |\n",
    "| 0.48 | 0.69 | 0.07 | Converged |\n",
    "| 0.03 | 0.85 | 0.69 | Converged |\n",
    "| 0.88 | 0.03 | 0.11 | Converged |\n",
    "| 0.02 | 0.20 | 0.45 | Converged |\n",
    "\n",
    "##### Effect of different learning rates\n",
    "| Learning rate $(\\eta)$ | Converging |\n",
    "| --- | --- | \n",
    "| 0.001 | Converging |\n",
    "| 0.01 | Not Converged | \n",
    "| 0.1 | Not Converged | \n"
   ]
  },
  {
   "cell_type": "markdown",
   "metadata": {},
   "source": [
    "##### Conclusion\n",
    "* The model is able to implement the equation $y = 1 + 2x_1 + 2x_2$ as the weights obtained from learning are close to the actual weights.\n",
    "* The initialisation of weight doesn't seem to have any effect on the convergence.\n",
    "* If we increase the learning rate beyond a certain limit the model may fail to converge.\n",
    "* The model is minimizing the Mean Squared Error or Least Mean Squared (LMS) Error over successive iterations.\n",
    "* The weight update equation is similar to the negative gradient of the error surface."
   ]
  },
  {
   "cell_type": "markdown",
   "metadata": {},
   "source": [
    "## References\n",
    "* The pictures are taken from Artificial Neural Networks by B. Yegnanarayana, PHI, 1999"
   ]
  }
 ],
 "metadata": {
  "kernelspec": {
   "display_name": "Python 3",
   "language": "python",
   "name": "python3"
  },
  "language_info": {
   "codemirror_mode": {
    "name": "ipython",
    "version": 3
   },
   "file_extension": ".py",
   "mimetype": "text/x-python",
   "name": "python",
   "nbconvert_exporter": "python",
   "pygments_lexer": "ipython3",
   "version": "3.6.8"
  }
 },
 "nbformat": 4,
 "nbformat_minor": 4
}
