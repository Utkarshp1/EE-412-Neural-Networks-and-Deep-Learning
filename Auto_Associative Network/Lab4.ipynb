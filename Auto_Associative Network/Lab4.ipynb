{
 "cells": [
  {
   "cell_type": "markdown",
   "metadata": {},
   "source": [
    "# Lab 4\n",
    "* **Name**: Utkarsh Prakash\n",
    "* **Roll Number**: 180030042\n",
    "\n",
    "## Title\n",
    "Demostrate the working principle of two layer auto-associative network.\n",
    "\n",
    "## Objective\n",
    "* To observe and understand different methods of finding optimal weights in a pattern association task.\n",
    "* To understand the effect of linearly independent, linearly dependent, orthogonal and orthonormal input vectors.\n",
    "\n",
    "## Hypothesis:\n",
    "* In a auto-association task the number of patterns that can be learnt is not limited by the input dimension i.e number of training examples ($L$) should be less than or equal to input vector dimension ($M$).\n",
    "* When weights are learnt by computation, then there should be a perfect recall.\n",
    "* When weights are learnt by using the Hebb's learning law, then there should be a perfect recall in the case of orthonormal input vectors.\n",
    "* When weights are learnt by using the Widrow-Hoff learning law, then there should be a perfect recall.\n",
    "\n",
    "## Experimental Description:\n",
    "1. **Data Generation:** <br />\n",
    "We generate random linearly independent vectors for training. For generating orthogonal vectors we use Householder matrices/reflections. <br/><br />\n",
    "2. **Network:** <br /><br />\n",
    "![Linear Auto-Associative Feedforward Network](tmp/IMG_4671.jpg) <br /><br />\n",
    "3. **Operations:** <br />\n",
    "Let $A$ be a $M\\times L$ matrix of input vectors (training examples) where each column represents a training examples. Let $B$ be a $N \\times L$ matrix of desired output vectors where each column represents the desired output for the corresponding training example in the matrix $A$. Let $B'$ denote the output obtained from the neuron. Let $W$ be the weight matrix such that $B' = WA$. <br />\n",
    "The error between the desired output vectors $(B)$ and the actual output vectors $(B')$ is given as follows:<br />\n",
    "<center> $E = \\frac{1}{L} ||B - B'||_{2}$ </center> <br />\n",
    "Moreover, since it's an auto-association task, hence $A=B$. <br />\n",
    "\n",
    "     **Weights by Computation:**<br />\n",
    "Now, it can be shown that the minimum error E can be obtained when $W = BA^+$ where $A^+$ presents the Moore-Penrose pseudo inverse of the matrix A. <br /><br />\n",
    "      **Weights by Hebbian Learning Law:**<br />\n",
    "Let $W_{ji}(l)$ represent the weight after processing $l$ input-output pattern pairs. Let $a_l$ be the $l^{th}$ input pattern vector and $b_l$ be the corresponding desired output vector applied to the linear associative network. Then the weight update equation is given as follows:<br />\n",
    "<center> $w_{ji}(l) = w_{ji}(l-1) + a_{li}b_{lj}$ </center> <br />\n",
    "where $i=1,2,...,M$ and $j=1,2,...,N$ <br />\n",
    "In matrix form, the update equation for the $l^{th}$ pattern pair $(a_l, b_l)$ is given by: <br />\n",
    "<center> $W(l) = W(l-1) + b_la_l^T$ </center> <br />\n",
    "where $W(l)$ is the weight matrix after the presentation of $l$ input-output pattern pairs.<br /><br />\n",
    "\n",
    "      **Weights by Widrow's Learning Law:**<br />\n",
    "Using, the notations defined earlier, the weight update equation for Widrow's Learning Law is given by: <br />\n",
    "<center>$w_{ji}(l) = w_{ji}(l-1) + \\eta(b_{lj} - w_{j}^T(l-1)a_l)a_{li}$ </center> <br />\n",
    "where $\\eta$ is a small positive constant called the learning rate parameter. <br/>\n",
    "In matrix form, the update equation for the $l^{th}$ pattern pair $(a_l, b_l)$ is given by: <br />\n",
    "<center> $W(l) = W(l-1) + \\eta(b_l - W(l-1)a_l)a_l^T$ </center> <br /> <br />\n",
    "4. **Training:** <br />\n",
    "For weights by learning, we randomly present one training example to the network. <br /> <br />\n",
    "5. **Testing:** <br />\n",
    "For testing, the error between the desired output vectors $(B)$ and the actual output vectors $(B')$ is given as follows:<br />\n",
    "<center> $E = \\frac{1}{L} ||B - B'||_{2}$ </center> <br />\n",
    "\n",
    "## Implementation"
   ]
  },
  {
   "cell_type": "code",
   "execution_count": 1,
   "metadata": {},
   "outputs": [],
   "source": [
    "import numpy as np\n",
    "import pandas as pd\n",
    "import matplotlib.pyplot as plt\n",
    "import time"
   ]
  },
  {
   "cell_type": "code",
   "execution_count": 2,
   "metadata": {},
   "outputs": [],
   "source": [
    "def generate_linearly_independent(m, l):\n",
    "    '''\n",
    "        This function generates linearly independent vectors\n",
    "        where m is the dimension of the input vectors and l \n",
    "        is the number of input vectors. \n",
    "    '''\n",
    "    A = np.random.rand(m,l)            # Random matrix A\n",
    "    r = np.linalg.matrix_rank(A)       # Rank calculation\n",
    "    \n",
    "    # Repeat until the rank of A is equal to the number of desired linearly independent vectors\n",
    "    while r < l:\n",
    "        A = np.random.rand(m,l)\n",
    "        r = np.linalg.matrix_rank(A)\n",
    "        \n",
    "    return A"
   ]
  },
  {
   "cell_type": "code",
   "execution_count": 3,
   "metadata": {},
   "outputs": [],
   "source": [
    "def generate_linearly_dependent(m, l, r):\n",
    "    '''\n",
    "        This function generates linearly dependent vectors\n",
    "        where m is the dimension of the input vectors, l is \n",
    "        the number of input vectors and r is the rank of the\n",
    "        desired matrix.\n",
    "    '''\n",
    "    \n",
    "    li = generate_linearly_independent(m, r)     #Linearly independent vectors\n",
    "    \n",
    "    A = li\n",
    "    \n",
    "    # Repeat the generated linearly independent vectors by multiplying the generated\n",
    "    # vectors by a constant number\n",
    "    for i in range(1, l//r):\n",
    "        A = np.c_[A, (i+1)*li]\n",
    "    \n",
    "    A = np.c_[A, (l//r+1)*A[:, :l%r]]\n",
    "    \n",
    "    return A"
   ]
  },
  {
   "cell_type": "markdown",
   "metadata": {},
   "source": [
    "### Householder reflections\n",
    "Let $u$ be a unit vector i.e. $u^Tu = 1$. Then $H = I - 2uu^T$ is an orthogonal matrix i.e. $H^TH=I$. <br /><br />\n",
    "**Proof:**<br />\n",
    "$H^TH = (I - 2uu^T)^T(I - 2uu^T)$ <br />\n",
    "$= (I - 2uu^T)(I - 2uu^T)$ <br />\n",
    "$= I - 2uu^T - 2uu^T + 4u(u^Tu)u^T$<br /> \n",
    "$= I - 4uu^T + 4uu^T$ <br />\n",
    "$= I$ <br />"
   ]
  },
  {
   "cell_type": "code",
   "execution_count": 4,
   "metadata": {},
   "outputs": [],
   "source": [
    "def generate_orthonormal(m, l):\n",
    "    '''\n",
    "        This function generates orthonormal vectors. First\n",
    "        we generate a Householder matrix of m-dimension.\n",
    "        Then we select the first l vectors from the formed\n",
    "        Householder matrix.\n",
    "    '''\n",
    "    v = np.random.rand(m,1)      # random vector\n",
    "    u = v/np.linalg.norm(v)      # unit vector\n",
    "    \n",
    "    identity = np.eye(m)         # identity matrix\n",
    "    \n",
    "    H = identity - 2*np.dot(u, u.T)   # Householder matrix\n",
    "    \n",
    "    return H[:, :l]             # return first l vectors"
   ]
  },
  {
   "cell_type": "code",
   "execution_count": 5,
   "metadata": {},
   "outputs": [],
   "source": [
    "def MeanSquaredError(w, A, norm=False):\n",
    "    '''\n",
    "        This function calculates the mean squared error\n",
    "        between the actual output vectors and desired \n",
    "        output vectors.\n",
    "    '''\n",
    "    # Normalize the input vectors if norm = True\n",
    "    if norm:\n",
    "        A = (A - np.mean(A, axis=1, keepdims=True))/np.std(A, axis=1, keepdims=True)\n",
    "    \n",
    "    b_pred = np.dot(w, A)          # output value\n",
    "    \n",
    "    return np.linalg.norm(b_pred - A)**2/A.shape[1]     # Calculate LMS error"
   ]
  },
  {
   "cell_type": "markdown",
   "metadata": {},
   "source": [
    "### Weights by Computation"
   ]
  },
  {
   "cell_type": "code",
   "execution_count": 6,
   "metadata": {},
   "outputs": [],
   "source": [
    "def weights_by_computation(A):\n",
    "    '''\n",
    "        This function finds the optimal weights of the network\n",
    "        using computation method (Linear Algebra method).\n",
    "    '''\n",
    "\n",
    "    return np.dot(A, np.linalg.pinv(A))"
   ]
  },
  {
   "cell_type": "code",
   "execution_count": 36,
   "metadata": {
    "scrolled": false
   },
   "outputs": [
    {
     "name": "stdout",
     "output_type": "stream",
     "text": [
      "Linearly Independent Vectors\n",
      "----------------------------\n",
      "Error: 1.4723734424840418e-31\n",
      "Time Taken: 0.002708911895751953\n",
      "\n",
      "Linearly Dependent Vectors\n",
      "----------------------------\n",
      "Error: 1.6663245936917505e-30\n",
      "Time Taken: 0.002572774887084961\n",
      "\n",
      "Orthonormal Vectors\n",
      "-------------------\n",
      "Error: 5.3864704630248295e-31\n",
      "Time Taken: 0.0066106319427490234\n"
     ]
    }
   ],
   "source": [
    "print(\"Linearly Independent Vectors\")\n",
    "print(\"----------------------------\")\n",
    "start_time = time.time()\n",
    "A = generate_linearly_independent(m=100, l=10)       # Linearly independent vectors\n",
    "w = weights_by_computation(A)                        # Weight calculation\n",
    "print(\"Error:\", MeanSquaredError(w, A))              # Error calculation\n",
    "print(\"Time Taken: {}\\n\".format(time.time() - start_time))\n",
    "\n",
    "print(\"Linearly Dependent Vectors\")\n",
    "print(\"----------------------------\")\n",
    "start_time = time.time()\n",
    "A1 = generate_linearly_dependent(m=100, l=200, r=1) # Linearly dependent vectors\n",
    "w1 = weights_by_computation(A1)                     # Weight calculation\n",
    "print(\"Error:\", MeanSquaredError(w1, A1))           # Error calculation \n",
    "print(\"Time Taken: {}\\n\".format(time.time() - start_time))\n",
    "\n",
    "print(\"Orthonormal Vectors\")\n",
    "print(\"-------------------\")\n",
    "start_time = time.time()\n",
    "A2 = generate_orthonormal(m=100, l=10)             # Orthonormal vectors\n",
    "w2 = weights_by_computation(A2)                    # Weight calculation\n",
    "print(\"Error:\", MeanSquaredError(w2, A2))          # Error calculation\n",
    "print(\"Time Taken: {}\".format(time.time() - start_time))"
   ]
  },
  {
   "cell_type": "code",
   "execution_count": 43,
   "metadata": {},
   "outputs": [
    {
     "data": {
      "image/png": "[encoded data removed]",
      "text/plain": [
       "<Figure size 432x288 with 1 Axes>"
      ]
     },
     "metadata": {
      "needs_background": "light"
     },
     "output_type": "display_data"
    }
   ],
   "source": [
    "# Study of behavior of error vs rank of the input matrix\n",
    "error = []\n",
    "\n",
    "for i in range(1, 100+1):\n",
    "    A1= generate_linearly_dependent(m=100, l=100, r=i)     # Linearly independent vectors of rank i\n",
    "    w1 = weights_by_computation(A1)                        # weight calculation\n",
    "    error.append(MeanSquaredError(w1, A1))                 # Error calculation\n",
    "    \n",
    "plt.figure()\n",
    "plt.plot(error)\n",
    "plt.xlabel(\"Rank of the input vectors\")\n",
    "plt.ylabel(\"Error\")\n",
    "plt.title(\"Error vs Rank\")\n",
    "plt.show()"
   ]
  },
  {
   "cell_type": "markdown",
   "metadata": {},
   "source": [
    "### Hebbian Learning"
   ]
  },
  {
   "cell_type": "code",
   "execution_count": 10,
   "metadata": {},
   "outputs": [],
   "source": [
    "def HebbianLearning(A):\n",
    "    '''\n",
    "        This function calculates the optimal weight using\n",
    "        Hebb's Law.\n",
    "    '''\n",
    "    return np.dot(A, A.T)      # W = AA.T"
   ]
  },
  {
   "cell_type": "code",
   "execution_count": 24,
   "metadata": {
    "scrolled": true
   },
   "outputs": [
    {
     "name": "stdout",
     "output_type": "stream",
     "text": [
      "Linearly Independent Vectors\n",
      "----------------------------\n",
      "Error: 1705605.5023637791\n",
      "Time Taken: 0.0010695457458496094\n",
      "\n",
      "Linearly Dependent Vectors\n",
      "----------------------------\n",
      "Error: 4.178789406434471e+21\n",
      "Time Taken: 0.0033416748046875\n",
      "\n",
      "Orthonormal Vectors\n",
      "-------------------\n",
      "Error: 8.588135692784796e-32\n",
      "Time Taken: 0.0021691322326660156\n"
     ]
    }
   ],
   "source": [
    "print(\"Linearly Independent Vectors\")\n",
    "print(\"----------------------------\")\n",
    "start_time = time.time()\n",
    "w = HebbianLearning(A)                              # Weight calculation\n",
    "print(\"Error:\", MeanSquaredError(w, A))             # Error calculation\n",
    "print(\"Time Taken: {}\\n\".format(time.time() - start_time))\n",
    "\n",
    "print(\"Linearly Dependent Vectors\")\n",
    "print(\"----------------------------\")\n",
    "start_time = time.time()\n",
    "w1 = HebbianLearning(A1)                           # Weight calculation\n",
    "print(\"Error:\", MeanSquaredError(w1, A1))          # Error calculation\n",
    "print(\"Time Taken: {}\\n\".format(time.time() - start_time))\n",
    "\n",
    "print(\"Orthonormal Vectors\")\n",
    "print(\"-------------------\")\n",
    "start_time = time.time()                          \n",
    "w2 = HebbianLearning(A2)                           # Weight calculation   \n",
    "print(\"Error:\", MeanSquaredError(w2, A2))          # Error calculation\n",
    "print(\"Time Taken: {}\".format(time.time() - start_time))"
   ]
  },
  {
   "cell_type": "markdown",
   "metadata": {},
   "source": [
    "### Widrow's Learning Law"
   ]
  },
  {
   "cell_type": "code",
   "execution_count": 18,
   "metadata": {},
   "outputs": [],
   "source": [
    "def WidrowLearning(A, epochs=1000, learning_rate=0.01):\n",
    "    '''\n",
    "        This function calculates the optimal weights using\n",
    "        the Widrow-Hoff learning law.\n",
    "    '''\n",
    "    w = np.zeros((A.shape[0], A.shape[0]))       # Weight initialisation\n",
    "    \n",
    "    # Normalize the input vectors\n",
    "    A = (A - np.mean(A, axis=1, keepdims=True))/np.std(A, axis=1, keepdims=True)\n",
    "    \n",
    "    errors = []\n",
    "    \n",
    "    # Running for different epochs\n",
    "    for i in range(epochs):\n",
    "        # Randomly shuffle the training examples\n",
    "        permutation = np.random.permutation(A.shape[1])\n",
    "        A = A[:, permutation]\n",
    "        \n",
    "        # Present one training example\n",
    "        for l in range(A.shape[1]):\n",
    "            al = np.expand_dims(A[:, l], axis=-1)\n",
    "            w = w + learning_rate*np.dot((al - np.dot(w, al)), al.T)    # Weight update\n",
    "            \n",
    "            error = MeanSquaredError(w, A)      # Error calculation\n",
    "            errors.append(error)\n",
    "        \n",
    "        # Early stopping\n",
    "        if error <= 10**(-20):\n",
    "            break\n",
    "    \n",
    "    return w, errors"
   ]
  },
  {
   "cell_type": "code",
   "execution_count": 25,
   "metadata": {},
   "outputs": [
    {
     "name": "stdout",
     "output_type": "stream",
     "text": [
      "Linearly Independent Vectors\n",
      "----------------------------\n",
      "Error: 1.6582636534462126e-21\n",
      "Time Taken: 0.04704093933105469\n",
      "\n"
     ]
    },
    {
     "data": {
      "image/png": "[encoded data removed]",
      "text/plain": [
       "<Figure size 432x288 with 1 Axes>"
      ]
     },
     "metadata": {
      "needs_background": "light"
     },
     "output_type": "display_data"
    }
   ],
   "source": [
    "print(\"Linearly Independent Vectors\")\n",
    "print(\"----------------------------\")\n",
    "start_time = time.time()\n",
    "w, errors = WidrowLearning(A)                        # Weight calculation\n",
    "print(\"Error:\", MeanSquaredError(w, A, norm=True))   # Error calculation\n",
    "print(\"Time Taken: {}\\n\".format(time.time() - start_time))\n",
    "\n",
    "plt.figure()\n",
    "plt.plot(errors)\n",
    "plt.xlabel('Iterations')\n",
    "plt.ylabel('Error')\n",
    "plt.title(\"Error vs Iterations\")\n",
    "plt.show()"
   ]
  },
  {
   "cell_type": "code",
   "execution_count": 26,
   "metadata": {},
   "outputs": [
    {
     "name": "stdout",
     "output_type": "stream",
     "text": [
      "Linearly Dependent Vectors\n",
      "----------------------------\n",
      "Error: 1.6959431683266849e-28\n",
      "Time Taken: 0.12672090530395508\n",
      "\n"
     ]
    },
    {
     "data": {
      "image/png": "[encoded data removed]",
      "text/plain": [
       "<Figure size 432x288 with 1 Axes>"
      ]
     },
     "metadata": {
      "needs_background": "light"
     },
     "output_type": "display_data"
    }
   ],
   "source": [
    "print(\"Linearly Dependent Vectors\")\n",
    "print(\"----------------------------\")\n",
    "start_time = time.time()\n",
    "w1, errors1 = WidrowLearning(A1)                        # Weight calculation\n",
    "print(\"Error:\", MeanSquaredError(w1, A1, norm=True))    # Error calculation\n",
    "print(\"Time Taken: {}\\n\".format(time.time() - start_time))\n",
    "\n",
    "plt.figure()\n",
    "plt.plot(errors1)\n",
    "plt.xlabel('Iterations')\n",
    "plt.ylabel('Error')\n",
    "plt.title(\"Error vs Iterations\")\n",
    "plt.show()"
   ]
  },
  {
   "cell_type": "code",
   "execution_count": 27,
   "metadata": {},
   "outputs": [
    {
     "name": "stdout",
     "output_type": "stream",
     "text": [
      "Orthonormal Vectors\n",
      "-------------------\n",
      "Error: 8.535207408052311e-21\n",
      "Time Taken: 0.5910029411315918\n",
      "\n"
     ]
    },
    {
     "data": {
      "image/png": "[encoded data removed]",
      "text/plain": [
       "<Figure size 432x288 with 1 Axes>"
      ]
     },
     "metadata": {
      "needs_background": "light"
     },
     "output_type": "display_data"
    }
   ],
   "source": [
    "print(\"Orthonormal Vectors\")\n",
    "print(\"-------------------\")\n",
    "start_time = time.time()\n",
    "w2, errors2 = WidrowLearning(A2)                      # Weight calculation\n",
    "print(\"Error:\", MeanSquaredError(w2, A2, norm=True))  # Error calculation\n",
    "print(\"Time Taken: {}\\n\".format(time.time() - start_time))\n",
    "\n",
    "plt.figure()\n",
    "plt.plot(errors2)\n",
    "plt.xlabel('Iterations')\n",
    "plt.ylabel('Error')\n",
    "plt.title(\"Error vs Iterations\")\n",
    "plt.show()"
   ]
  },
  {
   "cell_type": "markdown",
   "metadata": {},
   "source": [
    "## Observations\n",
    "* **Comparison of different Methods/Algorithms:** <br /> <br />\n",
    "\n",
    "| Vectors | Methods/Algorithms | Error | Time Taken (sec) |\n",
    "| --- | --- | --- | --- |\n",
    "| Linearly Independent | Computation | 1.42e-27 | 0.0058 |\n",
    "| | Hebb's Law | 1887496.72 | 0.0010 |\n",
    "| | Widrow-Hoff Law | 4.94e-21 | 0.047 |\n",
    "| Linearly Dependent | Computation | 3.81e-26 | 0.034 |\n",
    "| | Hebb's Law | 3.23e+21 | 0.0033 |\n",
    "| | Widrow-Hoff Law | 1.16e-28 | 0.1267 |\n",
    "| Orthonormal | Computation | 2.70e-31 | 0.0039 |\n",
    "| | Hebb's Law | 6.39e-32 | 0.0021 |\n",
    "| | Widrow-Hoff Law | 6.12e-21 | 0.5910 |"
   ]
  },
  {
   "cell_type": "markdown",
   "metadata": {},
   "source": [
    "## Conclusion\n",
    "* If the weights are computed then there is no error in case of linearly independent, linearly dependent and orthonormal vectors.\n",
    "* If the weights are calculated using Hebb's Law there is a significant amount of error in the case of linearly independent and linearly dependent vectors. This can be attributed to the fact that in Hebb's Learning the learned weights are equal to $BA^T$ which is not close to $BA^+$. However, in the case of orthonormal vectors the error is very little.\n",
    "* If the weights are calculated using Widrow-Hoff learning law, then there is no error in the case of linearly independent, linearly dependent and orthonormal vectors.\n",
    "* For an auto-association problem, there is no limitation on the input dimension and the number of patterns that can be recalled by the network.\n",
    "* The time taken by the computation method is significantly less than in the case of other algorithms."
   ]
  },
  {
   "cell_type": "markdown",
   "metadata": {},
   "source": [
    "## Proof for Conclusion\n",
    "![Proof for conclusion](tmp/IMG_4670.jpg)"
   ]
  },
  {
   "cell_type": "markdown",
   "metadata": {},
   "source": [
    "## References:\n",
    "* Artificial Neural Networks, B. Yegnanarayana, 1999\n",
    "* Householder Matrices: https://ocw.mit.edu/courses/mathematics/18-065-matrix-methods-in-data-analysis-signal-processing-and-machine-learning-spring-2018/video-lectures/lecture-3-orthonormal-columns-in-q-give-q2019q-i/"
   ]
  }
 ],
 "metadata": {
  "kernelspec": {
   "display_name": "Python 3",
   "language": "python",
   "name": "python3"
  },
  "language_info": {
   "codemirror_mode": {
    "name": "ipython",
    "version": 3
   },
   "file_extension": ".py",
   "mimetype": "text/x-python",
   "name": "python",
   "nbconvert_exporter": "python",
   "pygments_lexer": "ipython3",
   "version": "3.6.8"
  }
 },
 "nbformat": 4,
 "nbformat_minor": 4
}
